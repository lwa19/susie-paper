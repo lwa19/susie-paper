{
 "cells": [
  {
   "cell_type": "markdown",
   "metadata": {
    "kernel": "SoS"
   },
   "source": [
    "# A Dynamic Statistical Comparison benchmark\n",
    "\n",
    "Please read our manuscript for simulation details."
   ]
  },
  {
   "cell_type": "markdown",
   "metadata": {
    "kernel": "SoS"
   },
   "source": [
    "Since the simulation was based on human genotype from GTEx project which is only available via dbGaP for approved users, we cannot share the input genotype data with the public. However in this repository we share:\n",
    "\n",
    "1. The complete code-set for our fine-mapping benchmark\n",
    "2. The commands to run the benchmark\n",
    "3. An example run on the genotype data from DAP-G paper (biorxiv preprint on May, 2018)\n",
    "4. All output files from the benchmark including intermediate files and figures"
   ]
  },
  {
   "cell_type": "markdown",
   "metadata": {
    "kernel": "SoS"
   },
   "source": [
    "We implemented the numerical study of the manuscript in [the DSC framework](https://stephenslab.github.io/dsc-wiki/). \n",
    "The benchmark is a single [SoS Notebook](https://vatlab.github.io/sos-docs/) file (a Jupyter notebook with SoS kernel, in JSON format) `finemapping.ipynb` that conslidates all scripts required for the benchmark, distributed in this repository under `src` folder."
   ]
  },
  {
   "cell_type": "markdown",
   "metadata": {
    "kernel": "SoS"
   },
   "source": [
    "To run the benchmark, first navigate to `src`, then export scripts from the notebook:\n",
    "\n",
    "```\n",
    "./export.sos\n",
    "```\n",
    "\n",
    "You should see a number of scripts generated under `src` and `src/modules` with extensions `*.dsc`, `*.py` and `*.R`. These are scripts essential to run the benchmark.\n",
    "\n",
    "We provide [a dockerfile](https://github.com/stephenslab/susie-paper/blob/master/Dockerfile) to run the benchmark. If you want to set up the computing environment yourself please also take a look at this file to see how we configured it -- including versions of software we used for the paper."
   ]
  },
  {
   "cell_type": "markdown",
   "metadata": {
    "kernel": "SoS"
   },
   "source": [
    "## A toy benchmark example\n",
    "\n",
    "Here using one data-set from DAP-G paper we demonstrate now the benchmark works,\n",
    "\n",
    "```\n",
    "dsc susie.dsc --target run_comparison -o toy_comparison -c 8\n",
    "```\n",
    "\n",
    "screen output:\n",
    "\n",
    "```\n",
    "INFO: Load command line DSC sequence: run_comparison\n",
    "INFO: DSC script exported to toy_comparison.html\n",
    "INFO: Constructing DSC from susie.dsc ...\n",
    "INFO: Building execution graph & running DSC ...\n",
    "[#####################] 21 steps processed (183 jobs completed)\n",
    "INFO: Building DSC database ...\n",
    "INFO: DSC complete!\n",
    "INFO: Elapsed time 6456.271 seconds.\n",
    "```"
   ]
  },
  {
   "cell_type": "markdown",
   "metadata": {
    "kernel": "SoS"
   },
   "source": [
    "Results from this one toy data-set can be found under `toy_comparison` folder."
   ]
  },
  {
   "cell_type": "markdown",
   "metadata": {
    "kernel": "SoS"
   },
   "source": [
    "## Actual commands used for SuSiE paper\n",
    "\n",
    "Computations of DSC are performed on The University of Chicago RCC Midway cluster. \n",
    "The files `*.yml` are relevant to settings on the cluster that assigns resource for different computational modules involved.\n",
    "\n",
    "To compare with methods on smaller simulations scenarios for effect variable $S = 1,2,3,4,5$ on smaller data (1000 variables):\n",
    "\n",
    "```\n",
    "dsc susie.dsc --target run_comparison -o susie_comparison --host susie_comparison.yml -c 60\n",
    "```\n",
    "\n",
    "To compare with DAP on $S = 10$ on full range of genotype data (~8K variables on average):\n",
    "\n",
    "```\n",
    "dsc susie.dsc --target hard_case -o hard_case --host hard_case.yml -c 60\n",
    "```\n",
    "\n",
    "It is also possible to run the benchmark on a local computer, if `--host` option is dropped. The `*.yml` files under `src` folder are still relevant in providing information on required resource for each DSC module. Running time of the benchmark depends on avaiable computational resource. It is estimated that the entire benchmark will take over a week to run on a single compute node with 28 Intel Xeon E5 CPU threads (some otehr fine-mapping methods are the speed bottleneck)."
   ]
  },
  {
   "cell_type": "markdown",
   "metadata": {
    "kernel": "SoS"
   },
   "source": [
    "## Input genotype data\n",
    "\n",
    "Please check out [this pipeline](../manuscript_results/GTEx_Association_Preprocessing.html) for information on how input genotype data is prepared."
   ]
  },
  {
   "cell_type": "markdown",
   "metadata": {
    "kernel": "SoS"
   },
   "source": [
    "## Benchmark data download\n",
    "\n",
    "The benchmark data can be downloaded [here](http://shiny.stephenslab.uchicago.edu/gaow/dsc-susie-paper.tar), a 48GB tarball including all intermediate results generated by the benchmark (~8GB from comparison with CAVIAR, DAP-G and FINEMAP on 1000 variables, ~40GB from comparison with DAP-G on 3000~12,000$ variables). This dataset can be used to reproduce numerical studies of the manuscript as [documented here](manuscript_results/numerical_results.html)."
   ]
  }
 ],
 "metadata": {
  "kernelspec": {
   "display_name": "SoS",
   "language": "sos",
   "name": "sos"
  },
  "language_info": {
   "codemirror_mode": "sos",
   "file_extension": ".sos",
   "mimetype": "text/x-sos",
   "name": "sos",
   "nbconvert_exporter": "sos_notebook.converter.SoS_Exporter",
   "pygments_lexer": "sos"
  },
  "sos": {
   "default_kernel": "SoS",
   "kernels": [
    [
     "SoS",
     "sos",
     "",
     ""
    ]
   ]
  }
 },
 "nbformat": 4,
 "nbformat_minor": 4
}
