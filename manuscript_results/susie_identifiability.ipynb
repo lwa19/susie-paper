{
 "cells": [
  {
   "cell_type": "markdown",
   "metadata": {},
   "source": [
    "# Experiment on identifiability of SuSiE\n",
    "\n",
    "This notebook is meant to address to a concern from a referee."
   ]
  },
  {
   "cell_type": "markdown",
   "metadata": {},
   "source": [
    "It says the following:\n",
    "\n",
    "> Suppose\n",
    "we have another predictor $x_5$, which is both correlated with $(x_1,\n",
    "x_2)$ and $(x_3, x_4)$. Say $\\mathrm{cor}(x_1, x_5) = 0.9$,\n",
    "$\\mathrm{cor}(x_2, x_5) = 0.7$, and $\\mathrm{cor}(x_5, x_3)\n",
    "= \\mathrm{cor}(x_5, x_4) = 0.8$. Does the current method assign $x_5$\n",
    "to the $(x_1, x_2)$ group or the $(x_3, x_4)$ group?\n",
    "\n",
    "Here we investigate the problem using simulations for given correlation structure over multiple replicates."
   ]
  },
  {
   "cell_type": "markdown",
   "metadata": {},
   "source": [
    "## Correlation structure between variables"
   ]
  },
  {
   "cell_type": "markdown",
   "metadata": {},
   "source": [
    "First we determine covariance matrix that satisfies correlation structure as outlined above, "
   ]
  },
  {
   "cell_type": "code",
   "execution_count": 1,
   "metadata": {},
   "outputs": [],
   "source": [
    "h = 0.92\n",
    "l = 0.7\n",
    "cormat = rbind(c(1.0, h,   l,   l,   0.9),\n",
    "               c(h,   1.0, l,   l,   0.7),\n",
    "               c(l,   l,   1.0, h,   0.8),\n",
    "               c(l,   l,   h,   1.0, 0.8),\n",
    "               c(0.9, 0.7, 0.8, 0.8, 1.0))"
   ]
  },
  {
   "cell_type": "markdown",
   "metadata": {},
   "source": [
    "where we assume high correlation between $x_1$ and $x_2$, and $x_3$ and $x_4$ ($R_{12} = R_{34} = 0.92$). \n",
    "We set $R_{13} = R_{14} = R_{23} = R_{24} = 0.7$ and find the nearest \n",
    "positive definite matrix for this correlation structure:"
   ]
  },
  {
   "cell_type": "code",
   "execution_count": 2,
   "metadata": {},
   "outputs": [],
   "source": [
    "covmat = as.matrix(Matrix::nearPD(cormat)$mat)"
   ]
  },
  {
   "cell_type": "code",
   "execution_count": 3,
   "metadata": {},
   "outputs": [
    {
     "data": {
      "text/html": [
       "<table>\n",
       "<caption>A matrix: 5 × 5 of type dbl[,5]</caption>\n",
       "<tbody>\n",
       "\t<tr><td>1.0000000</td><td>0.9166551</td><td>0.6995185</td><td>0.6995185</td><td>0.8965043</td></tr>\n",
       "\t<tr><td>0.9166551</td><td>1.0000000</td><td>0.6993032</td><td>0.6993032</td><td>0.7003526</td></tr>\n",
       "\t<tr><td>0.6995185</td><td>0.6993032</td><td>1.0000000</td><td>0.9200059</td><td>0.7991611</td></tr>\n",
       "\t<tr><td>0.6995185</td><td>0.6993032</td><td>0.9200059</td><td>1.0000000</td><td>0.7991611</td></tr>\n",
       "\t<tr><td>0.8965043</td><td>0.7003526</td><td>0.7991611</td><td>0.7991611</td><td>1.0000000</td></tr>\n",
       "</tbody>\n",
       "</table>\n"
      ],
      "text/latex": [
       "A matrix: 5 × 5 of type dbl{[},5{]}\n",
       "\\begin{tabular}{lllll}\n",
       "\t 1.0000000 & 0.9166551 & 0.6995185 & 0.6995185 & 0.8965043\\\\\n",
       "\t 0.9166551 & 1.0000000 & 0.6993032 & 0.6993032 & 0.7003526\\\\\n",
       "\t 0.6995185 & 0.6993032 & 1.0000000 & 0.9200059 & 0.7991611\\\\\n",
       "\t 0.6995185 & 0.6993032 & 0.9200059 & 1.0000000 & 0.7991611\\\\\n",
       "\t 0.8965043 & 0.7003526 & 0.7991611 & 0.7991611 & 1.0000000\\\\\n",
       "\\end{tabular}\n"
      ],
      "text/markdown": [
       "\n",
       "A matrix: 5 × 5 of type dbl[,5]\n",
       "\n",
       "| 1.0000000 | 0.9166551 | 0.6995185 | 0.6995185 | 0.8965043 |\n",
       "| 0.9166551 | 1.0000000 | 0.6993032 | 0.6993032 | 0.7003526 |\n",
       "| 0.6995185 | 0.6993032 | 1.0000000 | 0.9200059 | 0.7991611 |\n",
       "| 0.6995185 | 0.6993032 | 0.9200059 | 1.0000000 | 0.7991611 |\n",
       "| 0.8965043 | 0.7003526 | 0.7991611 | 0.7991611 | 1.0000000 |\n",
       "\n"
      ],
      "text/plain": [
       "     [,1]      [,2]      [,3]      [,4]      [,5]     \n",
       "[1,] 1.0000000 0.9166551 0.6995185 0.6995185 0.8965043\n",
       "[2,] 0.9166551 1.0000000 0.6993032 0.6993032 0.7003526\n",
       "[3,] 0.6995185 0.6993032 1.0000000 0.9200059 0.7991611\n",
       "[4,] 0.6995185 0.6993032 0.9200059 1.0000000 0.7991611\n",
       "[5,] 0.8965043 0.7003526 0.7991611 0.7991611 1.0000000"
      ]
     },
     "metadata": {},
     "output_type": "display_data"
    }
   ],
   "source": [
    "cov2cor(covmat)"
   ]
  },
  {
   "cell_type": "markdown",
   "metadata": {},
   "source": [
    "It still satisfy the structure as outlined at the beginning of the document. We use the nearest PD found as the covariance matrix for simulation below."
   ]
  },
  {
   "cell_type": "markdown",
   "metadata": {},
   "source": [
    "## Simulation of features and response variables"
   ]
  },
  {
   "cell_type": "markdown",
   "metadata": {},
   "source": [
    "We simulate an $X$ matrix of $N=1000$ samples and $P_1=5$ variables, \n",
    "$$X_{p} \\sim MVN(0, \\Sigma)$$\n",
    "\n",
    "where $\\Sigma$ is covariance matrix as defined above."
   ]
  },
  {
   "cell_type": "markdown",
   "metadata": {},
   "source": [
    "We then expand $X$ to having a total of $P=2000$ variables where the other 1995 variables are independent --- they come from multivariate normal $MVN(0,I)$ with $I$ being the identity matrix. \n",
    "\n",
    "The sample size and number of variables mimics a relatively small sample genetic association fine-mapping application."
   ]
  },
  {
   "cell_type": "markdown",
   "metadata": {},
   "source": [
    "We simulate response $y$ using a linear model $y = Xb + e$, $e \\sim N(0, I_n)$, and effect size $b$ a length $p$ vector with zero elsewhere except:\n",
    "\n",
    "- Scenario 1: $x_2$ and $x_3$ are effect variables and $x_5$ is not effect variable: $b_2=b_3=1$.\n",
    "- Scenario 2: $x_2$, $x_3$ and $x_5$ are all effect variables: $b_2=b_3=b_5=1$.\n",
    "\n",
    "**Notice: here we intentially set $x_2$ but not $x_1$ the effect variable for the first set of highly correlated variables, because we expect that for scenario 2 when $x_1$ has higher correlation with $x_5$ than $x_2$ with $x_5$ then SuSiE might have trouble detecting $x_2$**."
   ]
  },
  {
   "cell_type": "markdown",
   "metadata": {},
   "source": [
    "## Analysis plan"
   ]
  },
  {
   "cell_type": "markdown",
   "metadata": {},
   "source": [
    "We run 500 replicates for the above 2 scenarios. We focus our evaluation on $x_5$ and ask:\n",
    "\n",
    "1. When $x_5$ is not a effect variable, how often is it dropped from the results, or grouped with $(x_1, x_2)$, or with $(x_3,x_4)$.\n",
    "2. When $x_5$ is an effect variable, how often is it considered as a set on its own, or grouped with $(x_1, x_2)$, or with $(x_3,x_4)$."
   ]
  },
  {
   "cell_type": "markdown",
   "metadata": {},
   "source": [
    "The code for the experiments can be found at: https://github.com/stephenslab/susie-paper/tree/master/identifiability_dsc"
   ]
  },
  {
   "cell_type": "markdown",
   "metadata": {},
   "source": [
    "## Results"
   ]
  },
  {
   "cell_type": "code",
   "execution_count": 6,
   "metadata": {},
   "outputs": [
    {
     "name": "stdout",
     "output_type": "stream",
     "text": [
      "Calling: dsc-query identifiability -o /tmp/Rtmpbv1sZ3/file129f2e9808bb.csv --target \"simulate.b5 evaluate.has_2 evaluate.has_3 evaluate.has_5 evaluate.in_12 evaluate.in_34 evaluate.own evaluate.mixed\" --force \n",
      "Loaded dscquery output table with 1 rows and 9 columns.\n"
     ]
    },
    {
     "name": "stderr",
     "output_type": "stream",
     "text": [
      "dscquery is returning a list because one or more outputs are complex; consider converting the list to a tibble using the \"tibble\" package\n"
     ]
    }
   ],
   "source": [
    "setwd('../identifiability_dsc/')\n",
    "res = dscrutils::dscquery('identifiability',targets = c('simulate.b5','evaluate','evaluate.has_2','evaluate.has_3','evaluate.has_5','evaluate.in_12','evaluate.in_34', 'evaluate.own', 'evaluate.mixed'), module.output.files='evaluate')\n",
    "saveRDS(res, 'identifiability_20200120.rds')"
   ]
  },
  {
   "cell_type": "code",
   "execution_count": 61,
   "metadata": {},
   "outputs": [
    {
     "data": {
      "text/html": [
       "<table>\n",
       "<caption>A tibble: 6 × 10</caption>\n",
       "<thead>\n",
       "\t<tr><th scope=col>DSC</th><th scope=col>simulate.b5</th><th scope=col>evaluate.has_2</th><th scope=col>evaluate.has_3</th><th scope=col>evaluate.has_5</th><th scope=col>evaluate.in_12</th><th scope=col>evaluate.in_34</th><th scope=col>evaluate.own</th><th scope=col>evaluate.mixed</th><th scope=col>evaluate.output.file</th></tr>\n",
       "\t<tr><th scope=col>&lt;int&gt;</th><th scope=col>&lt;int&gt;</th><th scope=col>&lt;list&gt;</th><th scope=col>&lt;list&gt;</th><th scope=col>&lt;list&gt;</th><th scope=col>&lt;dbl&gt;</th><th scope=col>&lt;dbl&gt;</th><th scope=col>&lt;dbl&gt;</th><th scope=col>&lt;int&gt;</th><th scope=col>&lt;chr&gt;</th></tr>\n",
       "</thead>\n",
       "<tbody>\n",
       "\t<tr><td>1</td><td>0</td><td>FALSE, TRUE, FALSE</td><td>TRUE, FALSE, FALSE</td><td>FALSE, FALSE, TRUE</td><td>0</td><td>1</td><td>0</td><td>0</td><td>evaluate/simulate_1_susie_1_evaluate_1</td></tr>\n",
       "\t<tr><td>1</td><td>1</td><td>FALSE, FALSE</td><td>TRUE, FALSE</td><td>FALSE, FALSE</td><td>0</td><td>0</td><td>0</td><td>0</td><td>evaluate/simulate_2_susie_1_evaluate_1</td></tr>\n",
       "\t<tr><td>2</td><td>0</td><td>TRUE, FALSE</td><td>FALSE, TRUE</td><td>FALSE, FALSE</td><td>0</td><td>0</td><td>0</td><td>0</td><td>evaluate/simulate_3_susie_1_evaluate_1</td></tr>\n",
       "\t<tr><td>2</td><td>1</td><td>FALSE, FALSE</td><td>FALSE, TRUE</td><td>FALSE, FALSE</td><td>0</td><td>0</td><td>0</td><td>0</td><td>evaluate/simulate_4_susie_1_evaluate_1</td></tr>\n",
       "\t<tr><td>3</td><td>0</td><td>TRUE, FALSE</td><td>FALSE, TRUE</td><td>FALSE, FALSE</td><td>0</td><td>0</td><td>0</td><td>0</td><td>evaluate/simulate_5_susie_1_evaluate_1</td></tr>\n",
       "\t<tr><td>3</td><td>1</td><td>FALSE, FALSE</td><td>FALSE, TRUE</td><td>FALSE, FALSE</td><td>0</td><td>0</td><td>0</td><td>0</td><td>evaluate/simulate_6_susie_1_evaluate_1</td></tr>\n",
       "</tbody>\n",
       "</table>\n"
      ],
      "text/latex": [
       "A tibble: 6 × 10\n",
       "\\begin{tabular}{r|llllllllll}\n",
       " DSC & simulate.b5 & evaluate.has\\_2 & evaluate.has\\_3 & evaluate.has\\_5 & evaluate.in\\_12 & evaluate.in\\_34 & evaluate.own & evaluate.mixed & evaluate.output.file\\\\\n",
       " <int> & <int> & <list> & <list> & <list> & <dbl> & <dbl> & <dbl> & <int> & <chr>\\\\\n",
       "\\hline\n",
       "\t 1 & 0 & FALSE, TRUE, FALSE & TRUE, FALSE, FALSE & FALSE, FALSE, TRUE & 0 & 1 & 0 & 0 & evaluate/simulate\\_1\\_susie\\_1\\_evaluate\\_1\\\\\n",
       "\t 1 & 1 & FALSE, FALSE & TRUE, FALSE & FALSE, FALSE & 0 & 0 & 0 & 0 & evaluate/simulate\\_2\\_susie\\_1\\_evaluate\\_1\\\\\n",
       "\t 2 & 0 & TRUE, FALSE & FALSE, TRUE & FALSE, FALSE & 0 & 0 & 0 & 0 & evaluate/simulate\\_3\\_susie\\_1\\_evaluate\\_1\\\\\n",
       "\t 2 & 1 & FALSE, FALSE & FALSE, TRUE & FALSE, FALSE & 0 & 0 & 0 & 0 & evaluate/simulate\\_4\\_susie\\_1\\_evaluate\\_1\\\\\n",
       "\t 3 & 0 & TRUE, FALSE & FALSE, TRUE & FALSE, FALSE & 0 & 0 & 0 & 0 & evaluate/simulate\\_5\\_susie\\_1\\_evaluate\\_1\\\\\n",
       "\t 3 & 1 & FALSE, FALSE & FALSE, TRUE & FALSE, FALSE & 0 & 0 & 0 & 0 & evaluate/simulate\\_6\\_susie\\_1\\_evaluate\\_1\\\\\n",
       "\\end{tabular}\n"
      ],
      "text/markdown": [
       "\n",
       "A tibble: 6 × 10\n",
       "\n",
       "| DSC &lt;int&gt; | simulate.b5 &lt;int&gt; | evaluate.has_2 &lt;list&gt; | evaluate.has_3 &lt;list&gt; | evaluate.has_5 &lt;list&gt; | evaluate.in_12 &lt;dbl&gt; | evaluate.in_34 &lt;dbl&gt; | evaluate.own &lt;dbl&gt; | evaluate.mixed &lt;int&gt; | evaluate.output.file &lt;chr&gt; |\n",
       "|---|---|---|---|---|---|---|---|---|---|\n",
       "| 1 | 0 | FALSE, TRUE, FALSE | TRUE, FALSE, FALSE | FALSE, FALSE, TRUE | 0 | 1 | 0 | 0 | evaluate/simulate_1_susie_1_evaluate_1 |\n",
       "| 1 | 1 | FALSE, FALSE | TRUE, FALSE | FALSE, FALSE | 0 | 0 | 0 | 0 | evaluate/simulate_2_susie_1_evaluate_1 |\n",
       "| 2 | 0 | TRUE, FALSE | FALSE, TRUE | FALSE, FALSE | 0 | 0 | 0 | 0 | evaluate/simulate_3_susie_1_evaluate_1 |\n",
       "| 2 | 1 | FALSE, FALSE | FALSE, TRUE | FALSE, FALSE | 0 | 0 | 0 | 0 | evaluate/simulate_4_susie_1_evaluate_1 |\n",
       "| 3 | 0 | TRUE, FALSE | FALSE, TRUE | FALSE, FALSE | 0 | 0 | 0 | 0 | evaluate/simulate_5_susie_1_evaluate_1 |\n",
       "| 3 | 1 | FALSE, FALSE | FALSE, TRUE | FALSE, FALSE | 0 | 0 | 0 | 0 | evaluate/simulate_6_susie_1_evaluate_1 |\n",
       "\n"
      ],
      "text/plain": [
       "  DSC simulate.b5 evaluate.has_2     evaluate.has_3     evaluate.has_5    \n",
       "1 1   0           FALSE, TRUE, FALSE TRUE, FALSE, FALSE FALSE, FALSE, TRUE\n",
       "2 1   1           FALSE, FALSE       TRUE, FALSE        FALSE, FALSE      \n",
       "3 2   0           TRUE, FALSE        FALSE, TRUE        FALSE, FALSE      \n",
       "4 2   1           FALSE, FALSE       FALSE, TRUE        FALSE, FALSE      \n",
       "5 3   0           TRUE, FALSE        FALSE, TRUE        FALSE, FALSE      \n",
       "6 3   1           FALSE, FALSE       FALSE, TRUE        FALSE, FALSE      \n",
       "  evaluate.in_12 evaluate.in_34 evaluate.own evaluate.mixed\n",
       "1 0              1              0            0             \n",
       "2 0              0              0            0             \n",
       "3 0              0              0            0             \n",
       "4 0              0              0            0             \n",
       "5 0              0              0            0             \n",
       "6 0              0              0            0             \n",
       "  evaluate.output.file                  \n",
       "1 evaluate/simulate_1_susie_1_evaluate_1\n",
       "2 evaluate/simulate_2_susie_1_evaluate_1\n",
       "3 evaluate/simulate_3_susie_1_evaluate_1\n",
       "4 evaluate/simulate_4_susie_1_evaluate_1\n",
       "5 evaluate/simulate_5_susie_1_evaluate_1\n",
       "6 evaluate/simulate_6_susie_1_evaluate_1"
      ]
     },
     "metadata": {},
     "output_type": "display_data"
    }
   ],
   "source": [
    "res = readRDS('identifiability_20200120.rds')\n",
    "res$evaluate.mixed = sapply(1:length(res$evaluate.mixed), function(l) length(res$evaluate.mixed[[l]]))\n",
    "res = tibble::as_tibble(res)\n",
    "head(res)"
   ]
  },
  {
   "cell_type": "markdown",
   "metadata": {},
   "source": [
    "### When $x_5$ is not effect variable"
   ]
  },
  {
   "cell_type": "code",
   "execution_count": 57,
   "metadata": {},
   "outputs": [],
   "source": [
    "b5 = 0\n",
    "rep = nrow(res[which(res$simulate.b5==b5),])\n",
    "in_12 = nrow(res[which(res$simulate.b5==b5 & res$evaluate.in_12>0),])\n",
    "in_34 = nrow(res[which(res$simulate.b5==b5 & res$evaluate.in_34>0),])\n",
    "own = nrow(res[which(res$simulate.b5==b5 & res$evaluate.own>0),])\n",
    "mixed = nrow(res[which(res$simulate.b5==b5 & res$evaluate.mixed>0),])\n",
    "total_cs = sum(sapply(1:length(res[which(res$simulate.b5==b5),]$evaluate.has_2), function(l) length(res[which(res$simulate.b5==b5),]$evaluate.has_2[[l]])))\n",
    "has_2 = sum(sapply(1:length(res[which(res$simulate.b5==b5),]$evaluate.has_2), function(l) any(res[which(res$simulate.b5==b5),]$evaluate.has_2[[l]])))\n",
    "has_3 = sum(sapply(1:length(res[which(res$simulate.b5==b5),]$evaluate.has_3), function(l) any(res[which(res$simulate.b5==b5),]$evaluate.has_3[[l]])))\n",
    "out = c(rep, total_cs, has_2, has_3, in_12, in_34, own, mixed)\n",
    "names(out) = c('replicates', 'total CS reported', 'replicates X2 is detected', 'replicates X3 is detected', 'X5 in CS with X1 and X2', 'X5 in CS with X3 and X4', 'X5 on its own', '(X1,X2) and (X3,X4) are mixed up')"
   ]
  },
  {
   "cell_type": "code",
   "execution_count": 58,
   "metadata": {},
   "outputs": [
    {
     "data": {
      "text/html": [
       "<dl class=dl-horizontal>\n",
       "\t<dt>replicates</dt>\n",
       "\t\t<dd>500</dd>\n",
       "\t<dt>total CS reported</dt>\n",
       "\t\t<dd>994</dd>\n",
       "\t<dt>replicates X2 is detected</dt>\n",
       "\t\t<dd>500</dd>\n",
       "\t<dt>replicates X3 is detected</dt>\n",
       "\t\t<dd>500</dd>\n",
       "\t<dt>X5 in CS with X1 and X2</dt>\n",
       "\t\t<dd>0</dd>\n",
       "\t<dt>X5 in CS with X3 and X4</dt>\n",
       "\t\t<dd>1</dd>\n",
       "\t<dt>X5 on its own</dt>\n",
       "\t\t<dd>1</dd>\n",
       "\t<dt>(X1,X2) and (X3,X4) are mixed up</dt>\n",
       "\t\t<dd>11</dd>\n",
       "</dl>\n"
      ],
      "text/latex": [
       "\\begin{description*}\n",
       "\\item[replicates] 500\n",
       "\\item[total CS reported] 994\n",
       "\\item[replicates X2 is detected] 500\n",
       "\\item[replicates X3 is detected] 500\n",
       "\\item[X5 in CS with X1 and X2] 0\n",
       "\\item[X5 in CS with X3 and X4] 1\n",
       "\\item[X5 on its own] 1\n",
       "\\item[(X1,X2) and (X3,X4) are mixed up] 11\n",
       "\\end{description*}\n"
      ],
      "text/markdown": [
       "replicates\n",
       ":   500total CS reported\n",
       ":   994replicates X2 is detected\n",
       ":   500replicates X3 is detected\n",
       ":   500X5 in CS with X1 and X2\n",
       ":   0X5 in CS with X3 and X4\n",
       ":   1X5 on its own\n",
       ":   1(X1,X2) and (X3,X4) are mixed up\n",
       ":   11\n",
       "\n"
      ],
      "text/plain": [
       "                      replicates                total CS reported \n",
       "                             500                              994 \n",
       "       replicates X2 is detected        replicates X3 is detected \n",
       "                             500                              500 \n",
       "         X5 in CS with X1 and X2          X5 in CS with X3 and X4 \n",
       "                               0                                1 \n",
       "                   X5 on its own (X1,X2) and (X3,X4) are mixed up \n",
       "                               1                               11 "
      ]
     },
     "metadata": {},
     "output_type": "display_data"
    }
   ],
   "source": [
    "out"
   ]
  },
  {
   "cell_type": "markdown",
   "metadata": {},
   "source": [
    "The result looks good."
   ]
  },
  {
   "cell_type": "markdown",
   "metadata": {},
   "source": [
    "### When $x_5$ is effect variable"
   ]
  },
  {
   "cell_type": "code",
   "execution_count": 59,
   "metadata": {},
   "outputs": [],
   "source": [
    "b5 = 1\n",
    "rep = nrow(res[which(res$simulate.b5==b5),])\n",
    "in_12 = nrow(res[which(res$simulate.b5==b5 & res$evaluate.in_12>0),])\n",
    "in_34 = nrow(res[which(res$simulate.b5==b5 & res$evaluate.in_34>0),])\n",
    "own = nrow(res[which(res$simulate.b5==b5 & res$evaluate.own>0),])\n",
    "mixed = nrow(res[which(res$simulate.b5==b5 & res$evaluate.mixed>0),])\n",
    "total_cs = sum(sapply(1:length(res[which(res$simulate.b5==b5),]$evaluate.has_2), function(l) length(res[which(res$simulate.b5==b5),]$evaluate.has_2[[l]])))\n",
    "has_2 = sum(sapply(1:length(res[which(res$simulate.b5==b5),]$evaluate.has_2), function(l) any(res[which(res$simulate.b5==b5),]$evaluate.has_2[[l]])))\n",
    "has_3 = sum(sapply(1:length(res[which(res$simulate.b5==b5),]$evaluate.has_3), function(l) any(res[which(res$simulate.b5==b5),]$evaluate.has_3[[l]])))\n",
    "out = c(rep, total_cs, has_2, has_3, in_12, in_34, own, mixed)\n",
    "names(out) = c('replicates', 'total CS reported', 'replicates X2 is detected', 'replicates X3 is detected', 'X5 in CS with X1 and X2', 'X5 in CS with X3 and X4', 'X5 on its own', '(X1,X2) and (X3,X4) are mixed up')"
   ]
  },
  {
   "cell_type": "code",
   "execution_count": 60,
   "metadata": {},
   "outputs": [
    {
     "data": {
      "text/html": [
       "<dl class=dl-horizontal>\n",
       "\t<dt>replicates</dt>\n",
       "\t\t<dd>500</dd>\n",
       "\t<dt>total CS reported</dt>\n",
       "\t\t<dd>1012</dd>\n",
       "\t<dt>replicates X2 is detected</dt>\n",
       "\t\t<dd>34</dd>\n",
       "\t<dt>replicates X3 is detected</dt>\n",
       "\t\t<dd>468</dd>\n",
       "\t<dt>X5 in CS with X1 and X2</dt>\n",
       "\t\t<dd>0</dd>\n",
       "\t<dt>X5 in CS with X3 and X4</dt>\n",
       "\t\t<dd>1</dd>\n",
       "\t<dt>X5 on its own</dt>\n",
       "\t\t<dd>43</dd>\n",
       "\t<dt>(X1,X2) and (X3,X4) are mixed up</dt>\n",
       "\t\t<dd>2</dd>\n",
       "</dl>\n"
      ],
      "text/latex": [
       "\\begin{description*}\n",
       "\\item[replicates] 500\n",
       "\\item[total CS reported] 1012\n",
       "\\item[replicates X2 is detected] 34\n",
       "\\item[replicates X3 is detected] 468\n",
       "\\item[X5 in CS with X1 and X2] 0\n",
       "\\item[X5 in CS with X3 and X4] 1\n",
       "\\item[X5 on its own] 43\n",
       "\\item[(X1,X2) and (X3,X4) are mixed up] 2\n",
       "\\end{description*}\n"
      ],
      "text/markdown": [
       "replicates\n",
       ":   500total CS reported\n",
       ":   1012replicates X2 is detected\n",
       ":   34replicates X3 is detected\n",
       ":   468X5 in CS with X1 and X2\n",
       ":   0X5 in CS with X3 and X4\n",
       ":   1X5 on its own\n",
       ":   43(X1,X2) and (X3,X4) are mixed up\n",
       ":   2\n",
       "\n"
      ],
      "text/plain": [
       "                      replicates                total CS reported \n",
       "                             500                             1012 \n",
       "       replicates X2 is detected        replicates X3 is detected \n",
       "                              34                              468 \n",
       "         X5 in CS with X1 and X2          X5 in CS with X3 and X4 \n",
       "                               0                                1 \n",
       "                   X5 on its own (X1,X2) and (X3,X4) are mixed up \n",
       "                              43                                2 "
      ]
     },
     "metadata": {},
     "output_type": "display_data"
    }
   ],
   "source": [
    "out"
   ]
  },
  {
   "cell_type": "markdown",
   "metadata": {},
   "source": [
    "The result is slightly problematic but is somewhat expected: \n",
    "\n",
    "1. Many CS incorrectly capture the non-effect variable $x_1$ instead of the true effect variable $x_2$.\n",
    "    - expected because the non-effect variable $x_1$ is both in correlation with effect variables $x_2$ and $x_5$, and has stronger correlation with $x_5$ than correlation between $x_2$ and $x_5$.\n",
    "2. The effect variable $x_5$ is often not detected in 95% CS\n",
    "    - expected because it is highly correlated with other effect variables but its contribution after accounting for other variables are not enough to stand out as a 95% CS.\n",
    "    - in this setting $x_5$ still don't end up either with $(x_1,x_2)$ or with $(x_3,x_4)$."
   ]
  }
 ],
 "metadata": {
  "kernelspec": {
   "display_name": "R",
   "language": "R",
   "name": "ir"
  },
  "language_info": {
   "codemirror_mode": "r",
   "file_extension": ".r",
   "mimetype": "text/x-r-source",
   "name": "R",
   "pygments_lexer": "r",
   "version": "3.5.3"
  }
 },
 "nbformat": 4,
 "nbformat_minor": 4
}
