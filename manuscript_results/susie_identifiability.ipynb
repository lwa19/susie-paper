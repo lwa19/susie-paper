{
 "cells": [
  {
   "cell_type": "markdown",
   "metadata": {},
   "source": [
    "# Experiment on identifiability of SuSiE\n",
    "\n",
    "This notebook is meant to address to a concern from a referee."
   ]
  },
  {
   "cell_type": "markdown",
   "metadata": {},
   "source": [
    "It says the following:\n",
    "\n",
    "> Suppose\n",
    "we have another predictor $x_5$, which is both correlated with $(x_1,\n",
    "x_2)$ and $(x_3, x_4)$. Say $\\mathrm{cor}(x_1, x_5) = 0.9$,\n",
    "$\\mathrm{cor}(x_2, x_5) = 0.7$, and $\\mathrm{cor}(x_5, x_3)\n",
    "= \\mathrm{cor}(x_5, x_4) = 0.8$. Does the current method assign $x_5$\n",
    "to the $(x_1, x_2)$ group or the $(x_3, x_4)$ group?\n",
    "\n",
    "Here we investigate the problem using simulations for given correlation structure over multiple replicates."
   ]
  },
  {
   "cell_type": "markdown",
   "metadata": {},
   "source": [
    "## Correlation structure between variables"
   ]
  },
  {
   "cell_type": "markdown",
   "metadata": {},
   "source": [
    "First we determine covariance matrix that satisfies correlation structure as outlined above, "
   ]
  },
  {
   "cell_type": "code",
   "execution_count": 1,
   "metadata": {},
   "outputs": [],
   "source": [
    "h = 0.92\n",
    "l = 0.7\n",
    "cormat = rbind(c(1.0, h,   l,   l,   0.9),\n",
    "               c(h,   1.0, l,   l,   0.7),\n",
    "               c(l,   l,   1.0, h,   0.8),\n",
    "               c(l,   l,   h,   1.0, 0.8),\n",
    "               c(0.9, 0.7, 0.8, 0.8, 1.0))"
   ]
  },
  {
   "cell_type": "markdown",
   "metadata": {},
   "source": [
    "where we assume high correlation between $x_1$ and $x_2$, and $x_3$ and $x_4$ ($R_{12} = R_{34} = 0.92$). \n",
    "We set $R_{13} = R_{13} = R_{23} = R_{24} = 0.7$ and find the nearest \n",
    "positive definite matrix for this correlation structure:"
   ]
  },
  {
   "cell_type": "code",
   "execution_count": 2,
   "metadata": {},
   "outputs": [],
   "source": [
    "covmat = as.matrix(Matrix::nearPD(cormat)$mat)"
   ]
  },
  {
   "cell_type": "code",
   "execution_count": 3,
   "metadata": {},
   "outputs": [
    {
     "data": {
      "text/html": [
       "<table>\n",
       "<caption>A matrix: 5 × 5 of type dbl[,5]</caption>\n",
       "<tbody>\n",
       "\t<tr><td>1.0000000</td><td>0.9166551</td><td>0.6995185</td><td>0.6995185</td><td>0.8965043</td></tr>\n",
       "\t<tr><td>0.9166551</td><td>1.0000000</td><td>0.6993032</td><td>0.6993032</td><td>0.7003526</td></tr>\n",
       "\t<tr><td>0.6995185</td><td>0.6993032</td><td>1.0000000</td><td>0.9200059</td><td>0.7991611</td></tr>\n",
       "\t<tr><td>0.6995185</td><td>0.6993032</td><td>0.9200059</td><td>1.0000000</td><td>0.7991611</td></tr>\n",
       "\t<tr><td>0.8965043</td><td>0.7003526</td><td>0.7991611</td><td>0.7991611</td><td>1.0000000</td></tr>\n",
       "</tbody>\n",
       "</table>\n"
      ],
      "text/latex": [
       "A matrix: 5 × 5 of type dbl{[},5{]}\n",
       "\\begin{tabular}{lllll}\n",
       "\t 1.0000000 & 0.9166551 & 0.6995185 & 0.6995185 & 0.8965043\\\\\n",
       "\t 0.9166551 & 1.0000000 & 0.6993032 & 0.6993032 & 0.7003526\\\\\n",
       "\t 0.6995185 & 0.6993032 & 1.0000000 & 0.9200059 & 0.7991611\\\\\n",
       "\t 0.6995185 & 0.6993032 & 0.9200059 & 1.0000000 & 0.7991611\\\\\n",
       "\t 0.8965043 & 0.7003526 & 0.7991611 & 0.7991611 & 1.0000000\\\\\n",
       "\\end{tabular}\n"
      ],
      "text/markdown": [
       "\n",
       "A matrix: 5 × 5 of type dbl[,5]\n",
       "\n",
       "| 1.0000000 | 0.9166551 | 0.6995185 | 0.6995185 | 0.8965043 |\n",
       "| 0.9166551 | 1.0000000 | 0.6993032 | 0.6993032 | 0.7003526 |\n",
       "| 0.6995185 | 0.6993032 | 1.0000000 | 0.9200059 | 0.7991611 |\n",
       "| 0.6995185 | 0.6993032 | 0.9200059 | 1.0000000 | 0.7991611 |\n",
       "| 0.8965043 | 0.7003526 | 0.7991611 | 0.7991611 | 1.0000000 |\n",
       "\n"
      ],
      "text/plain": [
       "     [,1]      [,2]      [,3]      [,4]      [,5]     \n",
       "[1,] 1.0000000 0.9166551 0.6995185 0.6995185 0.8965043\n",
       "[2,] 0.9166551 1.0000000 0.6993032 0.6993032 0.7003526\n",
       "[3,] 0.6995185 0.6993032 1.0000000 0.9200059 0.7991611\n",
       "[4,] 0.6995185 0.6993032 0.9200059 1.0000000 0.7991611\n",
       "[5,] 0.8965043 0.7003526 0.7991611 0.7991611 1.0000000"
      ]
     },
     "metadata": {},
     "output_type": "display_data"
    }
   ],
   "source": [
    "cov2cor(covmat)"
   ]
  },
  {
   "cell_type": "markdown",
   "metadata": {},
   "source": [
    "It still satisfy the structure as outlined at the beginning of the document. We use the nearest PD found as the covariance matrix for simulation below."
   ]
  },
  {
   "cell_type": "markdown",
   "metadata": {},
   "source": [
    "## Simulation of features and response variables"
   ]
  },
  {
   "cell_type": "markdown",
   "metadata": {},
   "source": [
    "We simulate an $X$ matrix of $N=1000$ samples and $P_1=5$ variables, \n",
    "$$X_{p} \\sim MVN(0, \\Sigma)$$\n",
    "\n",
    "where $\\Sigma$ is covariance matrix as defined above."
   ]
  },
  {
   "cell_type": "markdown",
   "metadata": {},
   "source": [
    "We then expand $X$ to having a total of $P=2000$ variables where the other 1995 variables are independent --- they come from multivariate normal $MVN(0,I)$ with $I$ being the identity matrix. \n",
    "\n",
    "The sample size and number of variables mimics a relatively small sample genetic association fine-mapping application."
   ]
  },
  {
   "cell_type": "markdown",
   "metadata": {},
   "source": [
    "We simulate response $y$ using a linear model $y = Xb + e$, $e \\sim N(0, I_n)$, and effect size $b$ a length $p$ vector with zero elsewhere except:\n",
    "\n",
    "- Scenario 1: $x_2$ and $x_3$ are effect variables and $x_5$ is not effect variable: $b_2=b_3=1$.\n",
    "- Scenario 2: $x_2$, $x_3$ and $x_5$ are all effect variables: $b_2=b_3=b_5=1$."
   ]
  },
  {
   "cell_type": "markdown",
   "metadata": {},
   "source": [
    "## Analysis plan"
   ]
  },
  {
   "cell_type": "markdown",
   "metadata": {},
   "source": [
    "We run 500 replicates for the above 2 scenarios. We focus our evaluation on $x_5$ and ask:\n",
    "\n",
    "1. When $x_5$ is not a effect variable, how often is it dropped from the results, or grouped with $(x_1, x_2)$ or $(x_3,x_4)$.\n",
    "2. When $x_5$ is an effect variable, how often is it considered as a set on its own, or grouped with $(x_1, x_2)$ or $(x_3,x_4)$."
   ]
  },
  {
   "cell_type": "markdown",
   "metadata": {},
   "source": [
    "The code for the experiments can be found at: ."
   ]
  },
  {
   "cell_type": "markdown",
   "metadata": {},
   "source": [
    "## Results"
   ]
  },
  {
   "cell_type": "code",
   "execution_count": null,
   "metadata": {},
   "outputs": [],
   "source": []
  }
 ],
 "metadata": {
  "kernelspec": {
   "display_name": "R",
   "language": "R",
   "name": "ir"
  },
  "language_info": {
   "codemirror_mode": "r",
   "file_extension": ".r",
   "mimetype": "text/x-r-source",
   "name": "R",
   "pygments_lexer": "r",
   "version": "3.5.3"
  }
 },
 "nbformat": 4,
 "nbformat_minor": 4
}
