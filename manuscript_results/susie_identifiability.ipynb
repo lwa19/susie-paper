{
 "cells": [
  {
   "cell_type": "markdown",
   "metadata": {},
   "source": [
    "# Experiment on identifiability of SuSiE\n",
    "\n",
    "This notebook is meant to address to a concern from a referee."
   ]
  },
  {
   "cell_type": "markdown",
   "metadata": {},
   "source": [
    "It says the following:\n",
    "\n",
    "> Suppose\n",
    "we have another predictor $x_5$, which is both correlated with $(x_1,\n",
    "x_2)$ and $(x_3, x_4)$. Say $\\mathrm{cor}(x_1, x_5) = 0.9$,\n",
    "$\\mathrm{cor}(x_2, x_5) = 0.7$, and $\\mathrm{cor}(x_5, x_3)\n",
    "= \\mathrm{cor}(x_5, x_4) = 0.8$. Does the current method assign $x_5$\n",
    "to the $(x_1, x_2)$ group or the $(x_3, x_4)$ group?"
   ]
  },
  {
   "cell_type": "markdown",
   "metadata": {},
   "source": [
    "First we simulate an $X$ matrix of 500 samples and 5 variables with properties as outlined above,"
   ]
  },
  {
   "cell_type": "code",
   "execution_count": 1,
   "metadata": {},
   "outputs": [],
   "source": [
    "h = 1\n",
    "l = 0.5\n",
    "cormat = rbind(c(1.0, h,   l,   l,   0.9),\n",
    "               c(h,   1.0, l,   l,   0.7),\n",
    "               c(l,   l,   1.0, h,   0.8),\n",
    "               c(l,   l,   h,   1.0, 0.8),\n",
    "               c(0.9, 0.7, 0.8, 0.8, 1.0))"
   ]
  },
  {
   "cell_type": "markdown",
   "metadata": {},
   "source": [
    "where we additionally assume high correlation between $x_1$ and $x_2$, and $x_3$ and $x_4$. We further assume that $(x_1, x_2)$ and $(x_3, x_4)$ are correlated with correlation 0.5."
   ]
  },
  {
   "cell_type": "code",
   "execution_count": 2,
   "metadata": {},
   "outputs": [],
   "source": [
    "covmat = Matrix::nearPD(cormat)$mat"
   ]
  },
  {
   "cell_type": "code",
   "execution_count": 3,
   "metadata": {},
   "outputs": [
    {
     "data": {
      "text/plain": [
       "5 x 5 Matrix of class \"dpoMatrix\"\n",
       "          [,1]      [,2]      [,3]      [,4]      [,5]\n",
       "[1,] 1.0415955 0.9727553 0.5071754 0.5071754 0.8723721\n",
       "[2,] 0.9727553 1.0178450 0.4953001 0.4953001 0.7180960\n",
       "[3,] 0.5071754 0.4953001 1.0012378 1.0012378 0.7952340\n",
       "[4,] 0.5071754 0.4953001 1.0012378 1.0012378 0.7952340\n",
       "[5,] 0.8723721 0.7180960 0.7952340 0.7952340 1.0183505"
      ]
     },
     "metadata": {},
     "output_type": "display_data"
    }
   ],
   "source": [
    "covmat"
   ]
  },
  {
   "cell_type": "markdown",
   "metadata": {},
   "source": [
    "We now simulate $X$ and access the empirical correlation of columns of $X$,"
   ]
  },
  {
   "cell_type": "code",
   "execution_count": 4,
   "metadata": {},
   "outputs": [],
   "source": [
    "n = 500\n",
    "set.seed(1)\n",
    "X = MASS::mvrnorm(n=n, rep(0,nrow(covmat)), covmat)"
   ]
  },
  {
   "cell_type": "code",
   "execution_count": 5,
   "metadata": {},
   "outputs": [
    {
     "data": {
      "text/html": [
       "<table>\n",
       "<caption>A matrix: 5 × 5 of type dbl[,5]</caption>\n",
       "<tbody>\n",
       "\t<tr><td>1.0000000</td><td>0.9476961</td><td>0.4730130</td><td>0.4730053</td><td>0.8339206</td></tr>\n",
       "\t<tr><td>0.9476961</td><td>1.0000000</td><td>0.4448778</td><td>0.4448681</td><td>0.6857495</td></tr>\n",
       "\t<tr><td>0.4730130</td><td>0.4448778</td><td>1.0000000</td><td>1.0000000</td><td>0.7892324</td></tr>\n",
       "\t<tr><td>0.4730053</td><td>0.4448681</td><td>1.0000000</td><td>1.0000000</td><td>0.7892302</td></tr>\n",
       "\t<tr><td>0.8339206</td><td>0.6857495</td><td>0.7892324</td><td>0.7892302</td><td>1.0000000</td></tr>\n",
       "</tbody>\n",
       "</table>\n"
      ],
      "text/latex": [
       "A matrix: 5 × 5 of type dbl{[},5{]}\n",
       "\\begin{tabular}{lllll}\n",
       "\t 1.0000000 & 0.9476961 & 0.4730130 & 0.4730053 & 0.8339206\\\\\n",
       "\t 0.9476961 & 1.0000000 & 0.4448778 & 0.4448681 & 0.6857495\\\\\n",
       "\t 0.4730130 & 0.4448778 & 1.0000000 & 1.0000000 & 0.7892324\\\\\n",
       "\t 0.4730053 & 0.4448681 & 1.0000000 & 1.0000000 & 0.7892302\\\\\n",
       "\t 0.8339206 & 0.6857495 & 0.7892324 & 0.7892302 & 1.0000000\\\\\n",
       "\\end{tabular}\n"
      ],
      "text/markdown": [
       "\n",
       "A matrix: 5 × 5 of type dbl[,5]\n",
       "\n",
       "| 1.0000000 | 0.9476961 | 0.4730130 | 0.4730053 | 0.8339206 |\n",
       "| 0.9476961 | 1.0000000 | 0.4448778 | 0.4448681 | 0.6857495 |\n",
       "| 0.4730130 | 0.4448778 | 1.0000000 | 1.0000000 | 0.7892324 |\n",
       "| 0.4730053 | 0.4448681 | 1.0000000 | 1.0000000 | 0.7892302 |\n",
       "| 0.8339206 | 0.6857495 | 0.7892324 | 0.7892302 | 1.0000000 |\n",
       "\n"
      ],
      "text/plain": [
       "     [,1]      [,2]      [,3]      [,4]      [,5]     \n",
       "[1,] 1.0000000 0.9476961 0.4730130 0.4730053 0.8339206\n",
       "[2,] 0.9476961 1.0000000 0.4448778 0.4448681 0.6857495\n",
       "[3,] 0.4730130 0.4448778 1.0000000 1.0000000 0.7892324\n",
       "[4,] 0.4730053 0.4448681 1.0000000 1.0000000 0.7892302\n",
       "[5,] 0.8339206 0.6857495 0.7892324 0.7892302 1.0000000"
      ]
     },
     "metadata": {},
     "output_type": "display_data"
    }
   ],
   "source": [
    "cor(X)"
   ]
  },
  {
   "cell_type": "markdown",
   "metadata": {},
   "source": [
    "It roughly agrees with our simulation settings.\n",
    "\n",
    "Now let's expand `X` matrix to having 1000 variables,"
   ]
  },
  {
   "cell_type": "code",
   "execution_count": 6,
   "metadata": {},
   "outputs": [],
   "source": [
    "p = 1000\n",
    "X = cbind(X, matrix(rnorm(n * (p - ncol(X))), nrow=n, ncol=(p - ncol(X))))"
   ]
  },
  {
   "cell_type": "markdown",
   "metadata": {},
   "source": [
    "## Experiment 1"
   ]
  },
  {
   "cell_type": "markdown",
   "metadata": {},
   "source": [
    "First we assume $x_2$, $x_3$ and $x_5$ are effect variables we simulate response `y`,"
   ]
  },
  {
   "cell_type": "code",
   "execution_count": 7,
   "metadata": {},
   "outputs": [],
   "source": [
    "b = rep(0,p)\n",
    "b[c(2,3,5)] = 1\n",
    "y = X %*% b + rnorm(n)"
   ]
  },
  {
   "cell_type": "markdown",
   "metadata": {},
   "source": [
    "And we analyze with SuSiE,"
   ]
  },
  {
   "cell_type": "code",
   "execution_count": 8,
   "metadata": {},
   "outputs": [],
   "source": [
    "res <- susieR::susie(X,y,L=10,max_iter=1000)"
   ]
  },
  {
   "cell_type": "code",
   "execution_count": 9,
   "metadata": {},
   "outputs": [
    {
     "data": {
      "text/html": [
       "<dl>\n",
       "\t<dt>$cs</dt>\n",
       "\t\t<dd><dl>\n",
       "\t<dt>$L1</dt>\n",
       "\t\t<dd>2</dd>\n",
       "\t<dt>$L2</dt>\n",
       "\t\t<dd><ol class=list-inline>\n",
       "\t<li>3</li>\n",
       "\t<li>4</li>\n",
       "</ol>\n",
       "</dd>\n",
       "</dl>\n",
       "</dd>\n",
       "\t<dt>$purity</dt>\n",
       "\t\t<dd><table>\n",
       "<caption>A df[,3]: 2 × 3</caption>\n",
       "<thead>\n",
       "\t<tr><th></th><th scope=col>min.abs.corr</th><th scope=col>mean.abs.corr</th><th scope=col>median.abs.corr</th></tr>\n",
       "\t<tr><th></th><th scope=col>&lt;dbl&gt;</th><th scope=col>&lt;dbl&gt;</th><th scope=col>&lt;dbl&gt;</th></tr>\n",
       "</thead>\n",
       "<tbody>\n",
       "\t<tr><th scope=row>L1</th><td>1</td><td>1</td><td>1</td></tr>\n",
       "\t<tr><th scope=row>L2</th><td>1</td><td>1</td><td>1</td></tr>\n",
       "</tbody>\n",
       "</table>\n",
       "</dd>\n",
       "\t<dt>$cs_index</dt>\n",
       "\t\t<dd><ol class=list-inline>\n",
       "\t<li>1</li>\n",
       "\t<li>2</li>\n",
       "</ol>\n",
       "</dd>\n",
       "\t<dt>$coverage</dt>\n",
       "\t\t<dd>0.95</dd>\n",
       "</dl>\n"
      ],
      "text/latex": [
       "\\begin{description}\n",
       "\\item[\\$cs] \\begin{description}\n",
       "\\item[\\$L1] 2\n",
       "\\item[\\$L2] \\begin{enumerate*}\n",
       "\\item 3\n",
       "\\item 4\n",
       "\\end{enumerate*}\n",
       "\n",
       "\\end{description}\n",
       "\n",
       "\\item[\\$purity] A df[,3]: 2 × 3\n",
       "\\begin{tabular}{r|lll}\n",
       "  & min.abs.corr & mean.abs.corr & median.abs.corr\\\\\n",
       "  & <dbl> & <dbl> & <dbl>\\\\\n",
       "\\hline\n",
       "\tL1 & 1 & 1 & 1\\\\\n",
       "\tL2 & 1 & 1 & 1\\\\\n",
       "\\end{tabular}\n",
       "\n",
       "\\item[\\$cs\\_index] \\begin{enumerate*}\n",
       "\\item 1\n",
       "\\item 2\n",
       "\\end{enumerate*}\n",
       "\n",
       "\\item[\\$coverage] 0.95\n",
       "\\end{description}\n"
      ],
      "text/markdown": [
       "$cs\n",
       ":   $L1\n",
       ":   2\n",
       "$L2\n",
       ":   1. 3\n",
       "2. 4\n",
       "\n",
       "\n",
       "\n",
       "\n",
       "\n",
       "\n",
       "$purity\n",
       ":   \n",
       "A df[,3]: 2 × 3\n",
       "\n",
       "| <!--/--> | min.abs.corr &lt;dbl&gt; | mean.abs.corr &lt;dbl&gt; | median.abs.corr &lt;dbl&gt; |\n",
       "|---|---|---|---|\n",
       "| L1 | 1 | 1 | 1 |\n",
       "| L2 | 1 | 1 | 1 |\n",
       "\n",
       "\n",
       "$cs_index\n",
       ":   1. 1\n",
       "2. 2\n",
       "\n",
       "\n",
       "\n",
       "$coverage\n",
       ":   0.95\n",
       "\n",
       "\n"
      ],
      "text/plain": [
       "$cs\n",
       "$cs$L1\n",
       "[1] 2\n",
       "\n",
       "$cs$L2\n",
       "[1] 3 4\n",
       "\n",
       "\n",
       "$purity\n",
       "   min.abs.corr mean.abs.corr median.abs.corr\n",
       "L1            1             1               1\n",
       "L2            1             1               1\n",
       "\n",
       "$cs_index\n",
       "[1] 1 2\n",
       "\n",
       "$coverage\n",
       "[1] 0.95\n"
      ]
     },
     "metadata": {},
     "output_type": "display_data"
    }
   ],
   "source": [
    "res$sets"
   ]
  },
  {
   "cell_type": "code",
   "execution_count": 10,
   "metadata": {},
   "outputs": [
    {
     "data": {
      "text/html": [
       "<ol class=list-inline>\n",
       "\t<li>1.35669253609194e-13</li>\n",
       "\t<li>0.999999999999864</li>\n",
       "\t<li>0.501170500839132</li>\n",
       "\t<li>0.498829499160868</li>\n",
       "\t<li>1</li>\n",
       "</ol>\n"
      ],
      "text/latex": [
       "\\begin{enumerate*}\n",
       "\\item 1.35669253609194e-13\n",
       "\\item 0.999999999999864\n",
       "\\item 0.501170500839132\n",
       "\\item 0.498829499160868\n",
       "\\item 1\n",
       "\\end{enumerate*}\n"
      ],
      "text/markdown": [
       "1. 1.35669253609194e-13\n",
       "2. 0.999999999999864\n",
       "3. 0.501170500839132\n",
       "4. 0.498829499160868\n",
       "5. 1\n",
       "\n",
       "\n"
      ],
      "text/plain": [
       "[1] 1.356693e-13 1.000000e+00 5.011705e-01 4.988295e-01 1.000000e+00"
      ]
     },
     "metadata": {},
     "output_type": "display_data"
    }
   ],
   "source": [
    "res$pip[c(1,2,3,4,5)]"
   ]
  },
  {
   "cell_type": "markdown",
   "metadata": {},
   "source": [
    "In this analysis 3 95% credible sets are identified. The first two CS contain effect variables $x_2$ and $x_5$ respectively and no other variables, even though $x_1$ is highly correlated with $x_2$ (correlation 0.948) its posterior inclusion probability is nearly zero (1E-13). The last CS contains two variables $x_3$ and $x_4$ each with 0.5 posterior inclusion probability because they are perfectly correlated."
   ]
  },
  {
   "cell_type": "markdown",
   "metadata": {},
   "source": [
    "## Experiment 2\n",
    "\n",
    "Here we assume $x_2$ and $x_3$ are effect variable, but not $x_5$,"
   ]
  },
  {
   "cell_type": "code",
   "execution_count": 10,
   "metadata": {},
   "outputs": [],
   "source": [
    "b = rep(0,p)\n",
    "b[c(2,3)] = 1\n",
    "y = X %*% b + rnorm(n)"
   ]
  },
  {
   "cell_type": "markdown",
   "metadata": {},
   "source": [
    "And we analyze with SuSiE,"
   ]
  },
  {
   "cell_type": "code",
   "execution_count": 11,
   "metadata": {},
   "outputs": [
    {
     "data": {
      "text/html": [
       "<dl>\n",
       "\t<dt>$cs</dt>\n",
       "\t\t<dd><dl>\n",
       "\t<dt>$L2</dt>\n",
       "\t\t<dd>2</dd>\n",
       "\t<dt>$L1</dt>\n",
       "\t\t<dd><ol class=list-inline>\n",
       "\t<li>3</li>\n",
       "\t<li>4</li>\n",
       "</ol>\n",
       "</dd>\n",
       "</dl>\n",
       "</dd>\n",
       "\t<dt>$purity</dt>\n",
       "\t\t<dd><table>\n",
       "<caption>A df[,3]: 2 × 3</caption>\n",
       "<thead>\n",
       "\t<tr><th></th><th scope=col>min.abs.corr</th><th scope=col>mean.abs.corr</th><th scope=col>median.abs.corr</th></tr>\n",
       "\t<tr><th></th><th scope=col>&lt;dbl&gt;</th><th scope=col>&lt;dbl&gt;</th><th scope=col>&lt;dbl&gt;</th></tr>\n",
       "</thead>\n",
       "<tbody>\n",
       "\t<tr><th scope=row>L2</th><td>1</td><td>1</td><td>1</td></tr>\n",
       "\t<tr><th scope=row>L1</th><td>1</td><td>1</td><td>1</td></tr>\n",
       "</tbody>\n",
       "</table>\n",
       "</dd>\n",
       "\t<dt>$cs_index</dt>\n",
       "\t\t<dd><ol class=list-inline>\n",
       "\t<li>2</li>\n",
       "\t<li>1</li>\n",
       "</ol>\n",
       "</dd>\n",
       "\t<dt>$coverage</dt>\n",
       "\t\t<dd>0.95</dd>\n",
       "</dl>\n"
      ],
      "text/latex": [
       "\\begin{description}\n",
       "\\item[\\$cs] \\begin{description}\n",
       "\\item[\\$L2] 2\n",
       "\\item[\\$L1] \\begin{enumerate*}\n",
       "\\item 3\n",
       "\\item 4\n",
       "\\end{enumerate*}\n",
       "\n",
       "\\end{description}\n",
       "\n",
       "\\item[\\$purity] A df[,3]: 2 × 3\n",
       "\\begin{tabular}{r|lll}\n",
       "  & min.abs.corr & mean.abs.corr & median.abs.corr\\\\\n",
       "  & <dbl> & <dbl> & <dbl>\\\\\n",
       "\\hline\n",
       "\tL2 & 1 & 1 & 1\\\\\n",
       "\tL1 & 1 & 1 & 1\\\\\n",
       "\\end{tabular}\n",
       "\n",
       "\\item[\\$cs\\_index] \\begin{enumerate*}\n",
       "\\item 2\n",
       "\\item 1\n",
       "\\end{enumerate*}\n",
       "\n",
       "\\item[\\$coverage] 0.95\n",
       "\\end{description}\n"
      ],
      "text/markdown": [
       "$cs\n",
       ":   $L2\n",
       ":   2\n",
       "$L1\n",
       ":   1. 3\n",
       "2. 4\n",
       "\n",
       "\n",
       "\n",
       "\n",
       "\n",
       "\n",
       "$purity\n",
       ":   \n",
       "A df[,3]: 2 × 3\n",
       "\n",
       "| <!--/--> | min.abs.corr &lt;dbl&gt; | mean.abs.corr &lt;dbl&gt; | median.abs.corr &lt;dbl&gt; |\n",
       "|---|---|---|---|\n",
       "| L2 | 1 | 1 | 1 |\n",
       "| L1 | 1 | 1 | 1 |\n",
       "\n",
       "\n",
       "$cs_index\n",
       ":   1. 2\n",
       "2. 1\n",
       "\n",
       "\n",
       "\n",
       "$coverage\n",
       ":   0.95\n",
       "\n",
       "\n"
      ],
      "text/plain": [
       "$cs\n",
       "$cs$L2\n",
       "[1] 2\n",
       "\n",
       "$cs$L1\n",
       "[1] 3 4\n",
       "\n",
       "\n",
       "$purity\n",
       "   min.abs.corr mean.abs.corr median.abs.corr\n",
       "L2            1             1               1\n",
       "L1            1             1               1\n",
       "\n",
       "$cs_index\n",
       "[1] 2 1\n",
       "\n",
       "$coverage\n",
       "[1] 0.95\n"
      ]
     },
     "metadata": {},
     "output_type": "display_data"
    }
   ],
   "source": [
    "res <- susieR::susie(X,y,L=10,max_iter=1000)\n",
    "res$sets"
   ]
  },
  {
   "cell_type": "code",
   "execution_count": 12,
   "metadata": {},
   "outputs": [
    {
     "data": {
      "text/html": [
       "<ol class=list-inline>\n",
       "\t<li>2.22044604925031e-16</li>\n",
       "\t<li>1</li>\n",
       "\t<li>0.496536934744119</li>\n",
       "\t<li>0.503463065255881</li>\n",
       "\t<li>0</li>\n",
       "</ol>\n"
      ],
      "text/latex": [
       "\\begin{enumerate*}\n",
       "\\item 2.22044604925031e-16\n",
       "\\item 1\n",
       "\\item 0.496536934744119\n",
       "\\item 0.503463065255881\n",
       "\\item 0\n",
       "\\end{enumerate*}\n"
      ],
      "text/markdown": [
       "1. 2.22044604925031e-16\n",
       "2. 1\n",
       "3. 0.496536934744119\n",
       "4. 0.503463065255881\n",
       "5. 0\n",
       "\n",
       "\n"
      ],
      "text/plain": [
       "[1] 2.220446e-16 1.000000e+00 4.965369e-01 5.034631e-01 0.000000e+00"
      ]
     },
     "metadata": {},
     "output_type": "display_data"
    }
   ],
   "source": [
    "res$pip[c(1,2,3,4,5)]"
   ]
  },
  {
   "cell_type": "markdown",
   "metadata": {},
   "source": [
    "As expected, $x_5$ was dropped out with posterior inclusion probability zero."
   ]
  }
 ],
 "metadata": {
  "kernelspec": {
   "display_name": "R",
   "language": "R",
   "name": "ir"
  },
  "language_info": {
   "codemirror_mode": "r",
   "file_extension": ".r",
   "mimetype": "text/x-r-source",
   "name": "R",
   "pygments_lexer": "r",
   "version": "3.5.3"
  }
 },
 "nbformat": 4,
 "nbformat_minor": 4
}
