{
 "cells": [
  {
   "cell_type": "markdown",
   "metadata": {
    "kernel": "SoS"
   },
   "source": [
    "# A demonstration of SuSiE's motivations\n",
    "\n",
    "This document explains with toy example illustration the unique type of inference SuSiE is interested in. For a more complicated where variables are in high but not perfect correlation please see [this notebook](motivating_example_high_corr.html)."
   ]
  },
  {
   "cell_type": "markdown",
   "metadata": {
    "kernel": "SoS"
   },
   "source": [
    "## The inference problem"
   ]
  },
  {
   "cell_type": "markdown",
   "metadata": {
    "kernel": "SoS"
   },
   "source": [
    "We assume our audience are familiar or interested in large scale regression. Similar to eg LASSO, SuSiE is a method for variable selection in large scale regression. Yet the type of inference SuSiE attempts to accomplish is different from other large scale regression methods, and is worth motivating in this document for those not familiar with this particular type of inference."
   ]
  },
  {
   "cell_type": "markdown",
   "metadata": {
    "kernel": "SoS"
   },
   "source": [
    "The type of inference is motivated by the so-called \"genetic fine-mapping\" study. Consider fitting the regression model $$y = \\sum_{j=1}^p x_j\\beta_j + \\epsilon \\quad \\epsilon \\sim N(0, \\sigma^2I_n)$$ where $x_1 = x_2, x_3 = x_4$ and \n",
    "$\\beta_1 \\ne 0, \\beta_4 \\ne 0, \\beta_{j \\notin \\{1,4\\}} = 0$. Our goal is to make a statement that $$\\beta_1 \\ne 0 \\text{ or } \\beta_2 \\ne 0, \\text{ and } \\beta_3 \\ne 0 \\text{ or } \\beta_4 \\ne 0,$$"
   ]
  },
  {
   "cell_type": "markdown",
   "metadata": {
    "kernel": "SoS"
   },
   "source": [
    "that is, in SuSiE variable selection we want to capture the fact that variables $x_1$ and $x_2$ (likewise $x_3$ and $x_4$) are too similar to distinguish. This is an inference that to our knowledge few other large scale regression can make; at least not in an intuitive and interpretable fashion."
   ]
  },
  {
   "cell_type": "markdown",
   "metadata": {
    "kernel": "SoS"
   },
   "source": [
    "To illustrate here I set $p=1000$ and simulate a data-set:"
   ]
  },
  {
   "cell_type": "code",
   "execution_count": 1,
   "metadata": {
    "kernel": "R"
   },
   "outputs": [],
   "source": [
    "set.seed(1)\n",
    "n = 500\n",
    "p = 1000\n",
    "b = rep(0,p)\n",
    "b[200] = 1\n",
    "b[800] = 1\n",
    "X = matrix(rnorm(n*p),nrow=n,ncol=p)\n",
    "X[,200] = X[,400]\n",
    "X[,600] = X[,800]\n",
    "y = X %*% b + rnorm(n)"
   ]
  },
  {
   "cell_type": "markdown",
   "metadata": {
    "kernel": "R"
   },
   "source": [
    "The \"true\" effects are:"
   ]
  },
  {
   "cell_type": "code",
   "execution_count": 2,
   "metadata": {
    "kernel": "R"
   },
   "outputs": [
    {
     "data": {
      "text/html": [
       "<strong>png:</strong> 2"
      ],
      "text/latex": [
       "\\textbf{png:} 2"
      ],
      "text/markdown": [
       "**png:** 2"
      ],
      "text/plain": [
       "png \n",
       "  2 "
      ]
     },
     "metadata": {},
     "output_type": "display_data"
    }
   ],
   "source": [
    "pdf('truth.pdf', width =5, height = 5, pointsize=16)\n",
    "plot(b, col=\"black\", pch=16, main = 'True effect size')\n",
    "pos = 1:length(b)\n",
    "points(pos[b!=0],b[b!=0],col=2,pch=16)\n",
    "dev.off()"
   ]
  },
  {
   "cell_type": "code",
   "execution_count": 3,
   "metadata": {
    "kernel": "SoS"
   },
   "outputs": [
    {
     "data": {
      "text/html": [
       "<div class=\"sos_hint\">%preview truth.pdf</div>"
      ]
     },
     "metadata": {},
     "output_type": "display_data"
    },
    {
     "data": {
      "text/html": [
       "<div class=\"sos_hint\">> truth.pdf (8.2 KiB):</div>"
      ],
      "text/plain": [
       "\n",
       "> truth.pdf (8.2 KiB):"
      ]
     },
     "metadata": {},
     "output_type": "display_data"
    },
    {
     "data": {
      "image/png": "[encoded data removed]"
     },
     "metadata": {},
     "output_type": "display_data"
    }
   ],
   "source": [
    "%preview truth.pdf -s png --dpi 100"
   ]
  },
  {
   "cell_type": "markdown",
   "metadata": {
    "kernel": "SoS"
   },
   "source": [
    "## LASSO inference\n",
    "\n",
    "LASSO will simply choose one of:\n",
    "\n",
    "- $x_1, x_3$\n",
    "- $x_1, x_4$\n",
    "- $x_2, x_3$\n",
    "- $x_2, x_4$\n",
    "\n",
    "This is not what we want. For instance on the simulated data,"
   ]
  },
  {
   "cell_type": "code",
   "execution_count": 4,
   "metadata": {
    "kernel": "R"
   },
   "outputs": [],
   "source": [
    "alpha = 1\n",
    "y.fit = glmnet::glmnet(X,y,alpha = alpha,intercept = FALSE)\n",
    "y.cv  = glmnet::cv.glmnet(X,y,alpha = alpha,intercept = FALSE,\n",
    "                         lambda = y.fit$lambda)\n",
    "bhat  = glmnet::predict.glmnet(y.fit,type =\"coefficients\",\n",
    "                               s = y.cv$lambda.min)[-1,1]"
   ]
  },
  {
   "cell_type": "code",
   "execution_count": 5,
   "metadata": {
    "kernel": "R"
   },
   "outputs": [
    {
     "data": {
      "text/html": [
       "<strong>png:</strong> 2"
      ],
      "text/latex": [
       "\\textbf{png:} 2"
      ],
      "text/markdown": [
       "**png:** 2"
      ],
      "text/plain": [
       "png \n",
       "  2 "
      ]
     },
     "metadata": {},
     "output_type": "display_data"
    }
   ],
   "source": [
    "pdf('lasso.pdf', width =5, height = 5, pointsize=16)\n",
    "plot(bhat, col=\"black\", pch=16, main = 'Lasso')\n",
    "pos = 1:length(bhat)\n",
    "points(pos[b!=0],bhat[b!=0],col=2,pch=16)   \n",
    "dev.off()"
   ]
  },
  {
   "cell_type": "code",
   "execution_count": 6,
   "metadata": {
    "kernel": "SoS"
   },
   "outputs": [
    {
     "data": {
      "text/html": [
       "<div class=\"sos_hint\">%preview lasso.pdf</div>"
      ]
     },
     "metadata": {},
     "output_type": "display_data"
    },
    {
     "data": {
      "text/html": [
       "<div class=\"sos_hint\">> lasso.pdf (8.2 KiB):</div>"
      ],
      "text/plain": [
       "\n",
       "> lasso.pdf (8.2 KiB):"
      ]
     },
     "metadata": {},
     "output_type": "display_data"
    },
    {
     "data": {
      "image/png": "[encoded data removed]"
     },
     "metadata": {},
     "output_type": "display_data"
    }
   ],
   "source": [
    "%preview lasso.pdf -s png --dpi 100"
   ]
  },
  {
   "cell_type": "markdown",
   "metadata": {
    "kernel": "R"
   },
   "source": [
    "LASSO randomly picked $x_1$ and $x_3$ even though the true non-zero effects are $\\beta_1$ and $\\beta_4$."
   ]
  },
  {
   "cell_type": "markdown",
   "metadata": {
    "kernel": "SoS"
   },
   "source": [
    "## Existing Bayesian methods for sparse regression"
   ]
  },
  {
   "cell_type": "markdown",
   "metadata": {
    "kernel": "SoS"
   },
   "source": [
    "For sparse enough problems, most other Bayesian methods provide posterior probabilities on \"models\" by enumerating (CAVIAR), schochastic search (FINEMAP) or sampling (BIMBAM) from all possible combinations of variables. In our motivating example, the \"true\" posterior for models are\n",
    "\\begin{align}\n",
    "p(\\beta_1 \\ne 0, \\beta_2 = 0, \\beta_3 \\ne 0, \\beta_4 = 0, \\beta_{5:p} = 0) &= 0.25 \\\\\n",
    "p(\\beta_1 = 0, \\beta_2 \\ne 0, \\beta_3 \\ne 0, \\beta_4 = 0, \\beta_{5:p} = 0) &= 0.25 \\\\\n",
    "p(\\beta_1 \\ne 0, \\beta_2 = 0, \\beta_3 = 0, \\beta_4 \\ne 0, \\beta_{5:p} = 0) &= 0.25 \\\\\n",
    "p(\\beta_1 = 0, \\beta_2 \\ne 0, \\beta_3 = 0, \\beta_4 \\ne 0, \\beta_{5:p} = 0) &= 0.25.\n",
    "\\end{align}\n",
    "Although compared to LASSO the model posterior contains the information to make statements about $\\beta_1 \\ne 0 \\text{ or } \\beta_2 \\ne 0, \\text{ and } \\beta_3 \\ne 0 \\text{ or } \\beta_4 \\ne 0$, it is not explicitly provided. One has to post-process these posteriors in order to make the statement. Such pre-processing is non-trivial, see eg Stephens and Balding 2009 for an example in the context of genetic fine-mapping. \n",
    "\n",
    "In addition, marginalized probabilities are often provided by these Bayesian methods, calcualted as\n",
    "\\begin{align}\n",
    "p(\\beta_1) &= p(\\beta_1 \\ne 0, \\beta_2 = 0, \\beta_3 \\ne 0, \\beta_4 = 0, \\beta_{5:p} = 0) \\\\\n",
    "& + p(\\beta_1 \\ne 0, \\beta_2 = 0, \\beta_3 = 0, \\beta_4 \\ne 0, \\beta_{5:p} = 0)  \\\\\n",
    "& = 0.5,\n",
    "\\end{align}\n",
    "but this does not provide the type of inference we are interested in.\n",
    "\n",
    "We illustrate Bayesian variable selection using `FINEMAP`. First we compute \"summary statistics\" that `FINEMAP` requires,"
   ]
  },
  {
   "cell_type": "code",
   "execution_count": 7,
   "metadata": {
    "kernel": "R"
   },
   "outputs": [],
   "source": [
    "library(abind)\n",
    "mm_regression = function(X, Y, Z=NULL) {\n",
    "  if (!is.null(Z)) {\n",
    "      Z = as.matrix(Z)\n",
    "  }\n",
    "  reg = lapply(seq_len(ncol(Y)), function (i) simplify2array(susieR:::univariate_regression(X, Y[,i], Z)))\n",
    "  reg = do.call(abind, c(reg, list(along=0)))\n",
    "  # return array: out[1,,] is betahat, out[2,,] is shat\n",
    "  return(aperm(reg, c(3,2,1)))\n",
    "}\n",
    "sumstats = mm_regression(as.matrix(X), as.matrix(y))\n",
    "dat = list(X=X,Y=as.matrix(y))\n",
    "saveRDS(list(data=dat, sumstats=sumstats), '/tmp/Toy.with_sumstats.rds')"
   ]
  },
  {
   "cell_type": "markdown",
   "metadata": {
    "kernel": "R"
   },
   "source": [
    "we then set up the path containing the `finemap` executable (here set to `~/GIT/github/mvarbvs/dsc/modules/linux`) and run a wrapper script provided in the `susieR` package under `inst/code` folder (the package source can be [downloaded here](https://github.com/stephenslab/susieR))."
   ]
  },
  {
   "cell_type": "code",
   "execution_count": 9,
   "metadata": {
    "kernel": "Bash"
   },
   "outputs": [
    {
     "name": "stdout",
     "output_type": "stream",
     "text": [
      "\n",
      "|---------------------------------|\n",
      "| Welcome to FINEMAP v1.1         |\n",
      "|                                 |\n",
      "| (c) 2015 University of Helsinki |\n",
      "|                                 |\n",
      "| Help / Documentation:           |\n",
      "| - ./finemap --help              |\n",
      "| - www.christianbenner.com       |\n",
      "|                                 |\n",
      "| Contact:                        |\n",
      "| - christian.benner@helsinki.fi  |\n",
      "| - matti.pirinen@helsinki.fi     |\n",
      "|---------------------------------|\n",
      "\n",
      "--------\n",
      "SETTINGS\n",
      "--------\n",
      "- regions         : 1 \n",
      "- n-causal-max    : 2\n",
      "- n-configs-top   : 50000\n",
      "- n-iterations    : 100000\n",
      "- n-convergence   : 1000\n",
      "- prob-tol        : 0.001\n",
      "- corr-config     : 0.95\n",
      "- prior-std       : 0.05\n",
      "- prior-k0        : 0\n",
      "\n",
      "---------------\n",
      "RUNNING FINEMAP (1/1)\n",
      "---------------\n",
      "- GWAS z-scores                   : /tmp/RtmpRHQEch/file7d275e5895af.finemap_condition_1.z\n",
      "- SNP correlations                : /tmp/RtmpRHQEch/file7d272073d9a6.ld\n",
      "- Causal SNP configurations       : /tmp/RtmpRHQEch/file7d275e5895af.finemap_condition_1.config\n",
      "- Single-SNP statistics           : /tmp/RtmpRHQEch/file7d275e5895af.finemap_condition_1.snp\n",
      "- Log file                        : /tmp/RtmpRHQEch/file7d275e5895af.finemap_condition_1.log\n",
      "\n",
      "- Reading input                   : done!\n",
      "- Number of SNPs in region        : 1000\n",
      "- Number of individuals in GWAS   : 500\n",
      "- Prior-Pr(# of causal SNPs is k) : \n",
      "  (0 -> 0)\n",
      "   1 -> 0.666667\n",
      "   2 -> 0.333333\n",
      "- 6979 configurations evaluated (1.004/100%) : converged after 1004 iterations\n",
      "- log10(Evidence of at least 1 causal SNP) : 60.0667\n",
      "- Post-Pr(# of causal SNPs is k)  : \n",
      "   0 -> 0\n",
      "   1 -> 8.6199e-22\n",
      "   2 -> 1\n",
      "- Writing output                  : done!\n",
      "- Run time                        : 0 hours, 0 minutes, 4 seconds\n",
      "\n"
     ]
    }
   ],
   "source": [
    "export PATH=~/GIT/github/mvarbvs/dsc/modules/linux:$PATH\n",
    "Rscript ~/GIT/susieR/inst/code/finemap.R input=\\\"/tmp/Toy.with_sumstats.rds\\\" output=\\\"N2finemapping.FINEMAP\\\" args=\\\"--n-causal-max\\ 2\\\" 2> /dev/null"
   ]
  },
  {
   "cell_type": "markdown",
   "metadata": {
    "kernel": "Bash"
   },
   "source": [
    "Posterior probabilities for \"models\" are:"
   ]
  },
  {
   "cell_type": "code",
   "execution_count": 10,
   "metadata": {
    "kernel": "R"
   },
   "outputs": [
    {
     "data": {
      "text/html": [
       "<table>\n",
       "<thead><tr><th scope=col>rank</th><th scope=col>config</th><th scope=col>config_prob</th><th scope=col>config_log10bf</th></tr></thead>\n",
       "<tbody>\n",
       "\t<tr><td>1       </td><td>400,800 </td><td>0.25    </td><td>65.64032</td></tr>\n",
       "\t<tr><td>2       </td><td>400,600 </td><td>0.25    </td><td>65.64032</td></tr>\n",
       "\t<tr><td>3       </td><td>200,800 </td><td>0.25    </td><td>65.64032</td></tr>\n",
       "\t<tr><td>4       </td><td>200,600 </td><td>0.25    </td><td>65.64032</td></tr>\n",
       "\t<tr><td>5       </td><td>200     </td><td>0.00    </td><td>41.57626</td></tr>\n",
       "\t<tr><td>6       </td><td>400     </td><td>0.00    </td><td>41.57626</td></tr>\n",
       "</tbody>\n",
       "</table>\n"
      ],
      "text/latex": [
       "\\begin{tabular}{r|llll}\n",
       " rank & config & config\\_prob & config\\_log10bf\\\\\n",
       "\\hline\n",
       "\t 1        & 400,800  & 0.25     & 65.64032\\\\\n",
       "\t 2        & 400,600  & 0.25     & 65.64032\\\\\n",
       "\t 3        & 200,800  & 0.25     & 65.64032\\\\\n",
       "\t 4        & 200,600  & 0.25     & 65.64032\\\\\n",
       "\t 5        & 200      & 0.00     & 41.57626\\\\\n",
       "\t 6        & 400      & 0.00     & 41.57626\\\\\n",
       "\\end{tabular}\n"
      ],
      "text/markdown": [
       "\n",
       "rank | config | config_prob | config_log10bf | \n",
       "|---|---|---|---|---|---|\n",
       "| 1        | 400,800  | 0.25     | 65.64032 | \n",
       "| 2        | 400,600  | 0.25     | 65.64032 | \n",
       "| 3        | 200,800  | 0.25     | 65.64032 | \n",
       "| 4        | 200,600  | 0.25     | 65.64032 | \n",
       "| 5        | 200      | 0.00     | 41.57626 | \n",
       "| 6        | 400      | 0.00     | 41.57626 | \n",
       "\n",
       "\n"
      ],
      "text/plain": [
       "  rank config  config_prob config_log10bf\n",
       "1 1    400,800 0.25        65.64032      \n",
       "2 2    400,600 0.25        65.64032      \n",
       "3 3    200,800 0.25        65.64032      \n",
       "4 4    200,600 0.25        65.64032      \n",
       "5 5    200     0.00        41.57626      \n",
       "6 6    400     0.00        41.57626      "
      ]
     },
     "metadata": {},
     "output_type": "display_data"
    }
   ],
   "source": [
    "finemap = readRDS(\"N2finemapping.FINEMAP.rds\")[[1]]\n",
    "head(finemap$set)"
   ]
  },
  {
   "cell_type": "markdown",
   "metadata": {
    "kernel": "R"
   },
   "source": [
    "`FINEMAP` correctly determined 4 \"model configurations\" as expected, each with probability 0.25. Simply marginalizing across all models we obtain posterior inclusion probability per feature,"
   ]
  },
  {
   "cell_type": "code",
   "execution_count": 11,
   "metadata": {
    "kernel": "R"
   },
   "outputs": [],
   "source": [
    "snp = finemap$snp\n",
    "pip = snp[order(as.numeric(snp$snp)),]$snp_prob"
   ]
  },
  {
   "cell_type": "code",
   "execution_count": 12,
   "metadata": {
    "kernel": "R"
   },
   "outputs": [
    {
     "data": {
      "text/html": [
       "<strong>png:</strong> 2"
      ],
      "text/latex": [
       "\\textbf{png:} 2"
      ],
      "text/markdown": [
       "**png:** 2"
      ],
      "text/plain": [
       "png \n",
       "  2 "
      ]
     },
     "metadata": {},
     "output_type": "display_data"
    }
   ],
   "source": [
    "pdf('finemap.pdf', width =5, height = 5, pointsize=16)\n",
    "susieR::susie_plot(pip, y='PIP', b=b, main = 'Bayesian sparse regression')\n",
    "dev.off()"
   ]
  },
  {
   "cell_type": "code",
   "execution_count": 13,
   "metadata": {
    "kernel": "SoS"
   },
   "outputs": [
    {
     "data": {
      "text/html": [
       "<div class=\"sos_hint\">%preview finemap.pdf</div>"
      ]
     },
     "metadata": {},
     "output_type": "display_data"
    },
    {
     "data": {
      "text/html": [
       "<div class=\"sos_hint\">> finemap.pdf (8.2 KiB):</div>"
      ],
      "text/plain": [
       "\n",
       "> finemap.pdf (8.2 KiB):"
      ]
     },
     "metadata": {},
     "output_type": "display_data"
    },
    {
     "data": {
      "image/png": "[encoded data removed]"
     },
     "metadata": {},
     "output_type": "display_data"
    }
   ],
   "source": [
    "%preview finemap.pdf -s png --dpi 100"
   ]
  },
  {
   "cell_type": "markdown",
   "metadata": {
    "kernel": "R"
   },
   "source": [
    "From these marginalized posterior we can only make a statement that each of the 4 identified variables have 0.5 probability of being non-zero. That is, they all have equal contributions. It does not reflect the fact that the result comes from identical feature pairs $x_1, x_2$ and $x_3, x_4$."
   ]
  },
  {
   "cell_type": "markdown",
   "metadata": {
    "kernel": "SoS"
   },
   "source": [
    "Existing variational inference methods (`varbvs`) do not provide accurate calculation of marginal posterior probabilities, although like LASSO, existing variational methods are good for prediction purposes."
   ]
  },
  {
   "cell_type": "markdown",
   "metadata": {
    "kernel": "SoS"
   },
   "source": [
    "## SuSiE\n",
    "\n",
    "SuSiE uses a variational inference algorithm which is not only computational convenient, but also directly obtains posterior statements of the desired form."
   ]
  },
  {
   "cell_type": "code",
   "execution_count": 14,
   "metadata": {
    "kernel": "R"
   },
   "outputs": [],
   "source": [
    "fitted = susieR::susie(X, y, L=5,\n",
    "               estimate_residual_variance=TRUE, \n",
    "               scaled_prior_variance=0.2,\n",
    "               tol=1e-3, track_fit=TRUE, min_abs_corr=0.1)"
   ]
  },
  {
   "cell_type": "code",
   "execution_count": 15,
   "metadata": {
    "kernel": "R"
   },
   "outputs": [
    {
     "data": {
      "text/html": [
       "<strong>png:</strong> 2"
      ],
      "text/latex": [
       "\\textbf{png:} 2"
      ],
      "text/markdown": [
       "**png:** 2"
      ],
      "text/plain": [
       "png \n",
       "  2 "
      ]
     },
     "metadata": {},
     "output_type": "display_data"
    }
   ],
   "source": [
    "pdf('susie.pdf', width =5, height = 5, pointsize=16)\n",
    "susieR::susie_plot(fitted, y='PIP', b=b, max_cs=0.4, main = paste('SuSiE, ', length(fitted$sets$cs), 'CS identified'))\n",
    "dev.off()"
   ]
  },
  {
   "cell_type": "code",
   "execution_count": 16,
   "metadata": {
    "kernel": "SoS"
   },
   "outputs": [
    {
     "data": {
      "text/html": [
       "<div class=\"sos_hint\">%preview susie.pdf</div>"
      ]
     },
     "metadata": {},
     "output_type": "display_data"
    },
    {
     "data": {
      "text/html": [
       "<div class=\"sos_hint\">> susie.pdf (8.2 KiB):</div>"
      ],
      "text/plain": [
       "\n",
       "> susie.pdf (8.2 KiB):"
      ]
     },
     "metadata": {},
     "output_type": "display_data"
    },
    {
     "data": {
      "image/png": "[encoded data removed]"
     },
     "metadata": {},
     "output_type": "display_data"
    }
   ],
   "source": [
    "%preview susie.pdf -s png --dpi 100"
   ]
  },
  {
   "cell_type": "markdown",
   "metadata": {
    "kernel": "SoS"
   },
   "source": [
    "Here SuSiE identifies 2 sets of variables -- 2 confidence sets each containing one causal variable (blue and green circles). The marginal posterior is the same as from existing Bayesian methods (FINEMAP result), but with the two sets identified one can easily state that the causal variables are ($x_1$ or $x_2$), and ($x_3$ or $x_4$). Within each set, the contributions of variables are equal because there is no information to distinguish between them.\n",
    "\n",
    "Notice that SuSiE does not directly provide posterior of model configuration, that is, inference on ($x_1$ and $x_3$), or ($x_1$ and $x_4$), or ($x_2$ and $x_3$), or ($x_2$ and $x_4$)."
   ]
  },
  {
   "cell_type": "markdown",
   "metadata": {
    "kernel": "SoS"
   },
   "source": [
    "Effect size estimate by SuSiE,"
   ]
  },
  {
   "cell_type": "code",
   "execution_count": 17,
   "metadata": {
    "kernel": "R"
   },
   "outputs": [
    {
     "data": {
      "text/html": [
       "<strong>png:</strong> 2"
      ],
      "text/latex": [
       "\\textbf{png:} 2"
      ],
      "text/markdown": [
       "**png:** 2"
      ],
      "text/plain": [
       "png \n",
       "  2 "
      ]
     },
     "metadata": {},
     "output_type": "display_data"
    }
   ],
   "source": [
    "bhat = coef(fitted)[-1]\n",
    "pdf('susie_eff.pdf', width =5, height = 5, pointsize=16)\n",
    "susieR::susie_plot(bhat, y='bhat', b=b, main = 'SuSiE, effect size estimate') \n",
    "dev.off()"
   ]
  },
  {
   "cell_type": "code",
   "execution_count": 18,
   "metadata": {
    "kernel": "R"
   },
   "outputs": [
    {
     "data": {
      "text/html": [
       "<div class=\"sos_hint\">%preview susie_eff.pdf</div>"
      ]
     },
     "metadata": {},
     "output_type": "display_data"
    },
    {
     "data": {
      "text/html": [
       "<div class=\"sos_hint\">> susie_eff.pdf (9.4 KiB):</div>"
      ],
      "text/plain": [
       "\n",
       "> susie_eff.pdf (9.4 KiB):"
      ]
     },
     "metadata": {},
     "output_type": "display_data"
    },
    {
     "data": {
      "image/png": "[encoded data removed]"
     },
     "metadata": {},
     "output_type": "display_data"
    }
   ],
   "source": [
    "%preview susie_eff.pdf -s png --dpi 100"
   ]
  },
  {
   "cell_type": "code",
   "execution_count": 19,
   "metadata": {
    "kernel": "Bash"
   },
   "outputs": [],
   "source": [
    "convert -density 120 \\( truth.pdf lasso.pdf +append \\) \\( finemap.pdf susie.pdf +append \\) -append Motivating_Example.png"
   ]
  }
 ],
 "metadata": {
  "kernelspec": {
   "display_name": "SoS",
   "language": "sos",
   "name": "sos"
  },
  "language_info": {
   "codemirror_mode": "sos",
   "file_extension": ".sos",
   "mimetype": "text/x-sos",
   "name": "sos",
   "nbconvert_exporter": "sos_notebook.converter.SoS_Exporter",
   "pygments_lexer": "sos"
  },
  "sos": {
   "kernels": [
    [
     "Bash",
     "bash",
     "Bash",
     "#E6EEFF"
    ],
    [
     "R",
     "ir",
     "R",
     "#DCDCDA"
    ],
    [
     "SoS",
     "sos",
     "",
     ""
    ]
   ],
   "version": "0.21.0"
  }
 },
 "nbformat": 4,
 "nbformat_minor": 4
}
