{
 "cells": [
  {
   "cell_type": "markdown",
   "metadata": {},
   "source": [
    "# Experiment with variables of given high correlation structure\n",
    "\n",
    "This notebook is meant to address to a concern from a referee."
   ]
  },
  {
   "cell_type": "markdown",
   "metadata": {},
   "source": [
    "It says the following:\n",
    "\n",
    "> Suppose\n",
    "we have another predictor $x_5$, which is both correlated with $(x_1,\n",
    "x_2)$ and $(x_3, x_4)$. Say $\\mathrm{cor}(x_1, x_5) = 0.9$,\n",
    "$\\mathrm{cor}(x_2, x_5) = 0.7$, and $\\mathrm{cor}(x_5, x_3)\n",
    "= \\mathrm{cor}(x_5, x_4) = 0.8$. Does the current method assign $x_5$\n",
    "to the $(x_1, x_2)$ group or the $(x_3, x_4)$ group?\n",
    "\n",
    "Here we investigate the problem using simulations for given correlation structure over multiple replicates."
   ]
  },
  {
   "cell_type": "markdown",
   "metadata": {},
   "source": [
    "## Correlation structure between variables"
   ]
  },
  {
   "cell_type": "markdown",
   "metadata": {},
   "source": [
    "First we determine covariance matrix that satisfies correlation structure as outlined above, "
   ]
  },
  {
   "cell_type": "code",
   "execution_count": 1,
   "metadata": {},
   "outputs": [],
   "source": [
    "h = 0.92\n",
    "l = 0.7\n",
    "cormat = rbind(c(1.0, h,   l,   l,   0.9),\n",
    "               c(h,   1.0, l,   l,   0.7),\n",
    "               c(l,   l,   1.0, h,   0.8),\n",
    "               c(l,   l,   h,   1.0, 0.8),\n",
    "               c(0.9, 0.7, 0.8, 0.8, 1.0))"
   ]
  },
  {
   "cell_type": "markdown",
   "metadata": {},
   "source": [
    "where we assume high correlation between $x_1$ and $x_2$, and $x_3$ and $x_4$ ($R_{12} = R_{34} = 0.92$). \n",
    "We set $R_{13} = R_{14} = R_{23} = R_{24} = 0.7$ and find the nearest \n",
    "positive definite matrix for this correlation structure:"
   ]
  },
  {
   "cell_type": "code",
   "execution_count": 2,
   "metadata": {},
   "outputs": [],
   "source": [
    "covmat = as.matrix(Matrix::nearPD(cormat)$mat)"
   ]
  },
  {
   "cell_type": "code",
   "execution_count": 3,
   "metadata": {},
   "outputs": [
    {
     "data": {
      "text/html": [
       "<table>\n",
       "<caption>A matrix: 5 × 5 of type dbl[,5]</caption>\n",
       "<tbody>\n",
       "\t<tr><td>1.0000000</td><td>0.9166551</td><td>0.6995185</td><td>0.6995185</td><td>0.8965043</td></tr>\n",
       "\t<tr><td>0.9166551</td><td>1.0000000</td><td>0.6993032</td><td>0.6993032</td><td>0.7003526</td></tr>\n",
       "\t<tr><td>0.6995185</td><td>0.6993032</td><td>1.0000000</td><td>0.9200059</td><td>0.7991611</td></tr>\n",
       "\t<tr><td>0.6995185</td><td>0.6993032</td><td>0.9200059</td><td>1.0000000</td><td>0.7991611</td></tr>\n",
       "\t<tr><td>0.8965043</td><td>0.7003526</td><td>0.7991611</td><td>0.7991611</td><td>1.0000000</td></tr>\n",
       "</tbody>\n",
       "</table>\n"
      ],
      "text/latex": [
       "A matrix: 5 × 5 of type dbl{[},5{]}\n",
       "\\begin{tabular}{lllll}\n",
       "\t 1.0000000 & 0.9166551 & 0.6995185 & 0.6995185 & 0.8965043\\\\\n",
       "\t 0.9166551 & 1.0000000 & 0.6993032 & 0.6993032 & 0.7003526\\\\\n",
       "\t 0.6995185 & 0.6993032 & 1.0000000 & 0.9200059 & 0.7991611\\\\\n",
       "\t 0.6995185 & 0.6993032 & 0.9200059 & 1.0000000 & 0.7991611\\\\\n",
       "\t 0.8965043 & 0.7003526 & 0.7991611 & 0.7991611 & 1.0000000\\\\\n",
       "\\end{tabular}\n"
      ],
      "text/markdown": [
       "\n",
       "A matrix: 5 × 5 of type dbl[,5]\n",
       "\n",
       "| 1.0000000 | 0.9166551 | 0.6995185 | 0.6995185 | 0.8965043 |\n",
       "| 0.9166551 | 1.0000000 | 0.6993032 | 0.6993032 | 0.7003526 |\n",
       "| 0.6995185 | 0.6993032 | 1.0000000 | 0.9200059 | 0.7991611 |\n",
       "| 0.6995185 | 0.6993032 | 0.9200059 | 1.0000000 | 0.7991611 |\n",
       "| 0.8965043 | 0.7003526 | 0.7991611 | 0.7991611 | 1.0000000 |\n",
       "\n"
      ],
      "text/plain": [
       "     [,1]      [,2]      [,3]      [,4]      [,5]     \n",
       "[1,] 1.0000000 0.9166551 0.6995185 0.6995185 0.8965043\n",
       "[2,] 0.9166551 1.0000000 0.6993032 0.6993032 0.7003526\n",
       "[3,] 0.6995185 0.6993032 1.0000000 0.9200059 0.7991611\n",
       "[4,] 0.6995185 0.6993032 0.9200059 1.0000000 0.7991611\n",
       "[5,] 0.8965043 0.7003526 0.7991611 0.7991611 1.0000000"
      ]
     },
     "metadata": {},
     "output_type": "display_data"
    }
   ],
   "source": [
    "cov2cor(covmat)"
   ]
  },
  {
   "cell_type": "markdown",
   "metadata": {},
   "source": [
    "It still satisfy the structure as outlined at the beginning of the document. We use the nearest PD found as the covariance matrix for simulation below."
   ]
  },
  {
   "cell_type": "markdown",
   "metadata": {},
   "source": [
    "## Simulation of features and response variables"
   ]
  },
  {
   "cell_type": "markdown",
   "metadata": {},
   "source": [
    "We simulate an $X$ matrix of $N=600$ samples and $P_1=5$ variables, \n",
    "$$X_{p} \\sim MVN(0, \\Sigma)$$\n",
    "\n",
    "where $\\Sigma$ is covariance matrix as defined above."
   ]
  },
  {
   "cell_type": "markdown",
   "metadata": {},
   "source": [
    "We then expand $X$ to having a total of $P=2000$ variables where the other 1995 variables are independent --- they come from multivariate normal $MVN(0,I)$ with $I$ being the identity matrix. "
   ]
  },
  {
   "cell_type": "markdown",
   "metadata": {},
   "source": [
    "We simulate effect size $b$ a length $p$ vector with zero elsewhere except:\n",
    "\n",
    "- Scenario 1: $x_2$ and $x_3$ are effect variables and $x_5$ is not effect variable.\n",
    "- Scenario 2: $x_2$, $x_3$ and $x_5$ are all effect variables.\n",
    "\n",
    "Non-zero effects are drawn from $N(0,1)$. Response $y$ is then generated using a linear model $y = Xb + e$, $e \\sim N(0, \\sigma I_n)$ with $\\sigma$ chosen such that $X$ explains 20% variation in $y$.\n",
    "\n",
    "The sample size, number of variables and effect size mimic a relatively small sample genetic association fine-mapping application."
   ]
  },
  {
   "cell_type": "markdown",
   "metadata": {},
   "source": [
    "## Analysis plan"
   ]
  },
  {
   "cell_type": "markdown",
   "metadata": {},
   "source": [
    "We run 500 replicates for the above 2 scenarios. We focus our evaluation on $x_5$ and ask:\n",
    "\n",
    "1. When $x_5$ is not a effect variable, how often is it dropped from the results, or grouped with $(x_1, x_2)$, or with $(x_3,x_4)$.\n",
    "2. When $x_5$ is an effect variable, how often is it considered as a set on its own, or grouped with $(x_1, x_2)$, or with $(x_3,x_4)$."
   ]
  },
  {
   "cell_type": "markdown",
   "metadata": {},
   "source": [
    "We also assess impact on convergence issues by running SuSiE with initializations to true parameter values and see how different the result can be compared to not initialze it this way."
   ]
  },
  {
   "cell_type": "markdown",
   "metadata": {},
   "source": [
    "The code for the experiments can be found at: https://github.com/stephenslab/susie-paper/tree/master/ref_question_dsc"
   ]
  },
  {
   "cell_type": "markdown",
   "metadata": {},
   "source": [
    "## Results"
   ]
  },
  {
   "cell_type": "code",
   "execution_count": 1,
   "metadata": {},
   "outputs": [
    {
     "name": "stdout",
     "output_type": "stream",
     "text": [
      "Calling: dsc-query ref4_question -o /tmp/jobs/65254510/RtmpsTwJwm/file886d1d05d894.csv --target \"simulate.b5 analyze.cs analyze.elbo analyze\" --force \n",
      "Loaded dscquery output table with 2000 rows and 6 columns.\n"
     ]
    },
    {
     "name": "stderr",
     "output_type": "stream",
     "text": [
      "dscquery is returning a list because one or more outputs are complex; consider converting the list to a tibble using the \"tibble\" package\n"
     ]
    }
   ],
   "source": [
    "setwd('../ref_question_dsc/')\n",
    "res = dscrutils::dscquery('ref4_question',targets = c('simulate.b5','analyze.cs','analyze.elbo','analyze'), module.output.files='analyze')\n",
    "saveRDS(res, 'ref4_question_20200123.rds')"
   ]
  },
  {
   "cell_type": "code",
   "execution_count": 2,
   "metadata": {},
   "outputs": [
    {
     "data": {
      "text/html": [
       "<table>\n",
       "<thead><tr><th scope=col>DSC</th><th scope=col>simulate.b5</th><th scope=col>analyze.cs</th><th scope=col>analyze.elbo</th><th scope=col>analyze</th><th scope=col>analyze.output.file</th></tr></thead>\n",
       "<tbody>\n",
       "\t<tr><td>1                                                                          </td><td>0                                                                          </td><td>1.0000000, 2.0000000, 0.9081847, 0.9540923, 0.9540923, 1.0000000, 0.9500000</td><td>-1591.2711                                                                 </td><td>susie                                                                      </td><td>susie/simulate_1_susie_1                                                   </td></tr>\n",
       "\t<tr><td>1                                 </td><td>1                                 </td><td>2.00, 1.00, 1.00, 1.00, 1.00, 0.95</td><td>-1543.7433                        </td><td>susie                             </td><td>susie/simulate_2_susie_1          </td></tr>\n",
       "\t<tr><td>2                                 </td><td>0                                 </td><td>3.00, 1.00, 1.00, 1.00, 1.00, 0.95</td><td>-1291.7338                        </td><td>susie                             </td><td>susie/simulate_3_susie_1          </td></tr>\n",
       "\t<tr><td>2                       </td><td>1                       </td><td>0.95                    </td><td>-1005.7306              </td><td>susie                   </td><td>susie/simulate_4_susie_1</td></tr>\n",
       "\t<tr><td>3                                 </td><td>0                                 </td><td>2.00, 1.00, 1.00, 1.00, 1.00, 0.95</td><td> -892.7243                        </td><td>susie                             </td><td>susie/simulate_5_susie_1          </td></tr>\n",
       "\t<tr><td>3                                 </td><td>1                                 </td><td>5.00, 1.00, 1.00, 1.00, 1.00, 0.95</td><td>-1579.8866                        </td><td>susie                             </td><td>susie/simulate_6_susie_1          </td></tr>\n",
       "</tbody>\n",
       "</table>\n"
      ],
      "text/latex": [
       "\\begin{tabular}{r|llllll}\n",
       " DSC & simulate.b5 & analyze.cs & analyze.elbo & analyze & analyze.output.file\\\\\n",
       "\\hline\n",
       "\t 1                                                                           & 0                                                                           & 1.0000000, 2.0000000, 0.9081847, 0.9540923, 0.9540923, 1.0000000, 0.9500000 & -1591.2711                                                                  & susie                                                                       & susie/simulate\\_1\\_susie\\_1                                             \\\\\n",
       "\t 1                                  & 1                                  & 2.00, 1.00, 1.00, 1.00, 1.00, 0.95 & -1543.7433                         & susie                              & susie/simulate\\_2\\_susie\\_1    \\\\\n",
       "\t 2                                  & 0                                  & 3.00, 1.00, 1.00, 1.00, 1.00, 0.95 & -1291.7338                         & susie                              & susie/simulate\\_3\\_susie\\_1    \\\\\n",
       "\t 2                              & 1                              & 0.95                           & -1005.7306                     & susie                          & susie/simulate\\_4\\_susie\\_1\\\\\n",
       "\t 3                                  & 0                                  & 2.00, 1.00, 1.00, 1.00, 1.00, 0.95 &  -892.7243                         & susie                              & susie/simulate\\_5\\_susie\\_1    \\\\\n",
       "\t 3                                  & 1                                  & 5.00, 1.00, 1.00, 1.00, 1.00, 0.95 & -1579.8866                         & susie                              & susie/simulate\\_6\\_susie\\_1    \\\\\n",
       "\\end{tabular}\n"
      ],
      "text/markdown": [
       "\n",
       "DSC | simulate.b5 | analyze.cs | analyze.elbo | analyze | analyze.output.file | \n",
       "|---|---|---|---|---|---|\n",
       "| 1                                                                           | 0                                                                           | 1.0000000, 2.0000000, 0.9081847, 0.9540923, 0.9540923, 1.0000000, 0.9500000 | -1591.2711                                                                  | susie                                                                       | susie/simulate_1_susie_1                                                    | \n",
       "| 1                                  | 1                                  | 2.00, 1.00, 1.00, 1.00, 1.00, 0.95 | -1543.7433                         | susie                              | susie/simulate_2_susie_1           | \n",
       "| 2                                  | 0                                  | 3.00, 1.00, 1.00, 1.00, 1.00, 0.95 | -1291.7338                         | susie                              | susie/simulate_3_susie_1           | \n",
       "| 2                        | 1                        | 0.95                     | -1005.7306               | susie                    | susie/simulate_4_susie_1 | \n",
       "| 3                                  | 0                                  | 2.00, 1.00, 1.00, 1.00, 1.00, 0.95 |  -892.7243                         | susie                              | susie/simulate_5_susie_1           | \n",
       "| 3                                  | 1                                  | 5.00, 1.00, 1.00, 1.00, 1.00, 0.95 | -1579.8866                         | susie                              | susie/simulate_6_susie_1           | \n",
       "\n",
       "\n"
      ],
      "text/plain": [
       "  DSC simulate.b5\n",
       "1 1   0          \n",
       "2 1   1          \n",
       "3 2   0          \n",
       "4 2   1          \n",
       "5 3   0          \n",
       "6 3   1          \n",
       "  analyze.cs                                                                 \n",
       "1 1.0000000, 2.0000000, 0.9081847, 0.9540923, 0.9540923, 1.0000000, 0.9500000\n",
       "2 2.00, 1.00, 1.00, 1.00, 1.00, 0.95                                         \n",
       "3 3.00, 1.00, 1.00, 1.00, 1.00, 0.95                                         \n",
       "4 0.95                                                                       \n",
       "5 2.00, 1.00, 1.00, 1.00, 1.00, 0.95                                         \n",
       "6 5.00, 1.00, 1.00, 1.00, 1.00, 0.95                                         \n",
       "  analyze.elbo analyze analyze.output.file     \n",
       "1 -1591.2711   susie   susie/simulate_1_susie_1\n",
       "2 -1543.7433   susie   susie/simulate_2_susie_1\n",
       "3 -1291.7338   susie   susie/simulate_3_susie_1\n",
       "4 -1005.7306   susie   susie/simulate_4_susie_1\n",
       "5  -892.7243   susie   susie/simulate_5_susie_1\n",
       "6 -1579.8866   susie   susie/simulate_6_susie_1"
      ]
     },
     "metadata": {},
     "output_type": "display_data"
    }
   ],
   "source": [
    "res = tibble::as_tibble(readRDS('ref4_question_20200123.rds'))\n",
    "head(res)"
   ]
  },
  {
   "cell_type": "markdown",
   "metadata": {},
   "source": [
    "### When $x_5$ is not effect variable"
   ]
  },
  {
   "cell_type": "code",
   "execution_count": 15,
   "metadata": {},
   "outputs": [],
   "source": [
    "out1 = res[which(res$simulate.b5==0),]"
   ]
  },
  {
   "cell_type": "markdown",
   "metadata": {},
   "source": [
    "For default initialization the average ELBO is:"
   ]
  },
  {
   "cell_type": "code",
   "execution_count": 16,
   "metadata": {},
   "outputs": [
    {
     "data": {
      "text/html": [
       "-1257.23074916148"
      ],
      "text/latex": [
       "-1257.23074916148"
      ],
      "text/markdown": [
       "-1257.23074916148"
      ],
      "text/plain": [
       "[1] -1257.231"
      ]
     },
     "metadata": {},
     "output_type": "display_data"
    }
   ],
   "source": [
    "mean(out1[which(out1$analyze=='susie'),]$analyze.elbo)"
   ]
  },
  {
   "cell_type": "markdown",
   "metadata": {},
   "source": [
    "And for good initialization:"
   ]
  },
  {
   "cell_type": "code",
   "execution_count": 17,
   "metadata": {},
   "outputs": [
    {
     "data": {
      "text/html": [
       "-1256.16293512861"
      ],
      "text/latex": [
       "-1256.16293512861"
      ],
      "text/markdown": [
       "-1256.16293512861"
      ],
      "text/plain": [
       "[1] -1256.163"
      ]
     },
     "metadata": {},
     "output_type": "display_data"
    }
   ],
   "source": [
    "mean(out1[which(out1$analyze=='susie_true_init'),]$analyze.elbo)"
   ]
  },
  {
   "cell_type": "markdown",
   "metadata": {},
   "source": [
    "The ELBO improves slightly on average. For default initialization:"
   ]
  },
  {
   "cell_type": "code",
   "execution_count": 18,
   "metadata": {},
   "outputs": [],
   "source": [
    "out2 = out1[which(out1$analyze=='susie'),]$analyze.cs"
   ]
  },
  {
   "cell_type": "code",
   "execution_count": 19,
   "metadata": {},
   "outputs": [],
   "source": [
    "out <- sapply(out2,function (x) paste(as.character(x$cs),collapse = \" and \"))\n",
    "out <- table(factor(out))\n",
    "out <- sort(out,decreasing = TRUE)\n",
    "out <- as.data.frame(out)\n",
    "names(out) <- c(\"CSs\",\"count\")"
   ]
  },
  {
   "cell_type": "code",
   "execution_count": 20,
   "metadata": {},
   "outputs": [
    {
     "data": {
      "text/html": [
       "<table>\n",
       "<thead><tr><th scope=col>CSs</th><th scope=col>count</th></tr></thead>\n",
       "<tbody>\n",
       "\t<tr><td>2            </td><td>178          </td></tr>\n",
       "\t<tr><td>3            </td><td>169          </td></tr>\n",
       "\t<tr><td>2 and 3      </td><td> 44          </td></tr>\n",
       "\t<tr><td>3 and 2      </td><td> 35          </td></tr>\n",
       "\t<tr><td>2:3          </td><td> 19          </td></tr>\n",
       "\t<tr><td>3:4          </td><td> 17          </td></tr>\n",
       "\t<tr><td>1:2          </td><td> 11          </td></tr>\n",
       "\t<tr><td>             </td><td>  5          </td></tr>\n",
       "\t<tr><td>2:4          </td><td>  5          </td></tr>\n",
       "\t<tr><td>3 and 1:2    </td><td>  5          </td></tr>\n",
       "\t<tr><td>2 and 3:4    </td><td>  3          </td></tr>\n",
       "\t<tr><td>4            </td><td>  3          </td></tr>\n",
       "\t<tr><td>1:3          </td><td>  2          </td></tr>\n",
       "\t<tr><td>1            </td><td>  1          </td></tr>\n",
       "\t<tr><td>2 and 1479   </td><td>  1          </td></tr>\n",
       "\t<tr><td>c(1, 3, 4, 5)</td><td>  1          </td></tr>\n",
       "\t<tr><td>c(1, 3)      </td><td>  1          </td></tr>\n",
       "</tbody>\n",
       "</table>\n"
      ],
      "text/latex": [
       "\\begin{tabular}{r|ll}\n",
       " CSs & count\\\\\n",
       "\\hline\n",
       "\t 2             & 178          \\\\\n",
       "\t 3             & 169          \\\\\n",
       "\t 2 and 3       &  44          \\\\\n",
       "\t 3 and 2       &  35          \\\\\n",
       "\t 2:3           &  19          \\\\\n",
       "\t 3:4           &  17          \\\\\n",
       "\t 1:2           &  11          \\\\\n",
       "\t               &   5          \\\\\n",
       "\t 2:4           &   5          \\\\\n",
       "\t 3 and 1:2     &   5          \\\\\n",
       "\t 2 and 3:4     &   3          \\\\\n",
       "\t 4             &   3          \\\\\n",
       "\t 1:3           &   2          \\\\\n",
       "\t 1             &   1          \\\\\n",
       "\t 2 and 1479    &   1          \\\\\n",
       "\t c(1, 3, 4, 5) &   1          \\\\\n",
       "\t c(1, 3)       &   1          \\\\\n",
       "\\end{tabular}\n"
      ],
      "text/markdown": [
       "\n",
       "CSs | count | \n",
       "|---|---|---|---|---|---|---|---|---|---|---|---|---|---|---|---|---|\n",
       "| 2             | 178           | \n",
       "| 3             | 169           | \n",
       "| 2 and 3       |  44           | \n",
       "| 3 and 2       |  35           | \n",
       "| 2:3           |  19           | \n",
       "| 3:4           |  17           | \n",
       "| 1:2           |  11           | \n",
       "|               |   5           | \n",
       "| 2:4           |   5           | \n",
       "| 3 and 1:2     |   5           | \n",
       "| 2 and 3:4     |   3           | \n",
       "| 4             |   3           | \n",
       "| 1:3           |   2           | \n",
       "| 1             |   1           | \n",
       "| 2 and 1479    |   1           | \n",
       "| c(1, 3, 4, 5) |   1           | \n",
       "| c(1, 3)       |   1           | \n",
       "\n",
       "\n"
      ],
      "text/plain": [
       "   CSs           count\n",
       "1  2             178  \n",
       "2  3             169  \n",
       "3  2 and 3        44  \n",
       "4  3 and 2        35  \n",
       "5  2:3            19  \n",
       "6  3:4            17  \n",
       "7  1:2            11  \n",
       "8                  5  \n",
       "9  2:4             5  \n",
       "10 3 and 1:2       5  \n",
       "11 2 and 3:4       3  \n",
       "12 4               3  \n",
       "13 1:3             2  \n",
       "14 1               1  \n",
       "15 2 and 1479      1  \n",
       "16 c(1, 3, 4, 5)   1  \n",
       "17 c(1, 3)         1  "
      ]
     },
     "metadata": {},
     "output_type": "display_data"
    }
   ],
   "source": [
    "out"
   ]
  },
  {
   "cell_type": "markdown",
   "metadata": {},
   "source": [
    "Here, variable 5 is dropped for all but one replicate, which identified one CS containing variables 1, 3, 4 and 5 (recall only $b_3$ is non-zero).\n",
    "\n",
    "There are 5 false positive CS, and 5 replicates where no 95% CS is identified."
   ]
  },
  {
   "cell_type": "markdown",
   "metadata": {},
   "source": [
    "For \"good\" initialization,"
   ]
  },
  {
   "cell_type": "code",
   "execution_count": 21,
   "metadata": {},
   "outputs": [],
   "source": [
    "out3 = out1[which(out1$analyze=='susie_true_init'),]$analyze.cs\n",
    "out <- sapply(out3,function (x) paste(as.character(x$cs),collapse = \" and \"))\n",
    "out <- table(factor(out))\n",
    "out <- sort(out,decreasing = TRUE)\n",
    "out <- as.data.frame(out)\n",
    "names(out) <- c(\"CSs\",\"count\")"
   ]
  },
  {
   "cell_type": "code",
   "execution_count": 22,
   "metadata": {},
   "outputs": [
    {
     "data": {
      "text/html": [
       "<table>\n",
       "<thead><tr><th scope=col>CSs</th><th scope=col>count</th></tr></thead>\n",
       "<tbody>\n",
       "\t<tr><td>2 and 3           </td><td>139               </td></tr>\n",
       "\t<tr><td>2                 </td><td>136               </td></tr>\n",
       "\t<tr><td>3                 </td><td>124               </td></tr>\n",
       "\t<tr><td>3 and 1:2         </td><td> 29               </td></tr>\n",
       "\t<tr><td>2 and 3:4         </td><td> 26               </td></tr>\n",
       "\t<tr><td>3:4               </td><td> 14               </td></tr>\n",
       "\t<tr><td>3:4 and 1:2       </td><td>  8               </td></tr>\n",
       "\t<tr><td>1:2               </td><td>  7               </td></tr>\n",
       "\t<tr><td>2 and 3:5         </td><td>  4               </td></tr>\n",
       "\t<tr><td>1:2 and 3:4       </td><td>  3               </td></tr>\n",
       "\t<tr><td>2:3               </td><td>  3               </td></tr>\n",
       "\t<tr><td>4                 </td><td>  2               </td></tr>\n",
       "\t<tr><td>1                 </td><td>  1               </td></tr>\n",
       "\t<tr><td>1:3               </td><td>  1               </td></tr>\n",
       "\t<tr><td>2 and 1479        </td><td>  1               </td></tr>\n",
       "\t<tr><td>3 and c(1, 5)     </td><td>  1               </td></tr>\n",
       "\t<tr><td>3:4 and c(1, 2, 5)</td><td>  1               </td></tr>\n",
       "</tbody>\n",
       "</table>\n"
      ],
      "text/latex": [
       "\\begin{tabular}{r|ll}\n",
       " CSs & count\\\\\n",
       "\\hline\n",
       "\t 2 and 3            & 139               \\\\\n",
       "\t 2                  & 136               \\\\\n",
       "\t 3                  & 124               \\\\\n",
       "\t 3 and 1:2          &  29               \\\\\n",
       "\t 2 and 3:4          &  26               \\\\\n",
       "\t 3:4                &  14               \\\\\n",
       "\t 3:4 and 1:2        &   8               \\\\\n",
       "\t 1:2                &   7               \\\\\n",
       "\t 2 and 3:5          &   4               \\\\\n",
       "\t 1:2 and 3:4        &   3               \\\\\n",
       "\t 2:3                &   3               \\\\\n",
       "\t 4                  &   2               \\\\\n",
       "\t 1                  &   1               \\\\\n",
       "\t 1:3                &   1               \\\\\n",
       "\t 2 and 1479         &   1               \\\\\n",
       "\t 3 and c(1, 5)      &   1               \\\\\n",
       "\t 3:4 and c(1, 2, 5) &   1               \\\\\n",
       "\\end{tabular}\n"
      ],
      "text/markdown": [
       "\n",
       "CSs | count | \n",
       "|---|---|---|---|---|---|---|---|---|---|---|---|---|---|---|---|---|\n",
       "| 2 and 3            | 139                | \n",
       "| 2                  | 136                | \n",
       "| 3                  | 124                | \n",
       "| 3 and 1:2          |  29                | \n",
       "| 2 and 3:4          |  26                | \n",
       "| 3:4                |  14                | \n",
       "| 3:4 and 1:2        |   8                | \n",
       "| 1:2                |   7                | \n",
       "| 2 and 3:5          |   4                | \n",
       "| 1:2 and 3:4        |   3                | \n",
       "| 2:3                |   3                | \n",
       "| 4                  |   2                | \n",
       "| 1                  |   1                | \n",
       "| 1:3                |   1                | \n",
       "| 2 and 1479         |   1                | \n",
       "| 3 and c(1, 5)      |   1                | \n",
       "| 3:4 and c(1, 2, 5) |   1                | \n",
       "\n",
       "\n"
      ],
      "text/plain": [
       "   CSs                count\n",
       "1  2 and 3            139  \n",
       "2  2                  136  \n",
       "3  3                  124  \n",
       "4  3 and 1:2           29  \n",
       "5  2 and 3:4           26  \n",
       "6  3:4                 14  \n",
       "7  3:4 and 1:2          8  \n",
       "8  1:2                  7  \n",
       "9  2 and 3:5            4  \n",
       "10 1:2 and 3:4          3  \n",
       "11 2:3                  3  \n",
       "12 4                    2  \n",
       "13 1                    1  \n",
       "14 1:3                  1  \n",
       "15 2 and 1479           1  \n",
       "16 3 and c(1, 5)        1  \n",
       "17 3:4 and c(1, 2, 5)   1  "
      ]
     },
     "metadata": {},
     "output_type": "display_data"
    }
   ],
   "source": [
    "out"
   ]
  },
  {
   "cell_type": "markdown",
   "metadata": {},
   "source": [
    "There are 4 false positive CS, and in all replicates at least one 95% CS is identified. Variable 5 are mostly dropped out, but it occasionally groups with either the first ($x_1$,$x_2$) or the second ($x_3$,$x_4$) set of variables."
   ]
  },
  {
   "cell_type": "markdown",
   "metadata": {},
   "source": [
    "### When $x_5$ is effect variable"
   ]
  },
  {
   "cell_type": "code",
   "execution_count": 29,
   "metadata": {},
   "outputs": [],
   "source": [
    "out1 = res[which(res$simulate.b5!=0),]"
   ]
  },
  {
   "cell_type": "code",
   "execution_count": 30,
   "metadata": {},
   "outputs": [
    {
     "data": {
      "text/html": [
       "-1433.659595861"
      ],
      "text/latex": [
       "-1433.659595861"
      ],
      "text/markdown": [
       "-1433.659595861"
      ],
      "text/plain": [
       "[1] -1433.66"
      ]
     },
     "metadata": {},
     "output_type": "display_data"
    }
   ],
   "source": [
    "mean(out1[which(out1$analyze=='susie'),]$analyze.elbo)"
   ]
  },
  {
   "cell_type": "code",
   "execution_count": 31,
   "metadata": {},
   "outputs": [
    {
     "data": {
      "text/html": [
       "-1433.41607211166"
      ],
      "text/latex": [
       "-1433.41607211166"
      ],
      "text/markdown": [
       "-1433.41607211166"
      ],
      "text/plain": [
       "[1] -1433.416"
      ]
     },
     "metadata": {},
     "output_type": "display_data"
    }
   ],
   "source": [
    "mean(out1[which(out1$analyze=='susie_true_init'),]$analyze.elbo)"
   ]
  },
  {
   "cell_type": "markdown",
   "metadata": {},
   "source": [
    "ELBO are not very different when \"good\" initialization was used. For default initialization:"
   ]
  },
  {
   "cell_type": "code",
   "execution_count": 32,
   "metadata": {},
   "outputs": [],
   "source": [
    "out2 = out1[which(out1$analyze=='susie'),]$analyze.cs\n",
    "out <- sapply(out2,function (x) paste(as.character(x$cs),collapse = \" and \"))\n",
    "out <- table(factor(out))\n",
    "out <- sort(out,decreasing = TRUE)\n",
    "out <- as.data.frame(out)\n",
    "names(out) <- c(\"CSs\",\"count\")"
   ]
  },
  {
   "cell_type": "code",
   "execution_count": 33,
   "metadata": {},
   "outputs": [
    {
     "data": {
      "text/html": [
       "<table>\n",
       "<thead><tr><th scope=col>CSs</th><th scope=col>count</th></tr></thead>\n",
       "<tbody>\n",
       "\t<tr><td>5              </td><td>88             </td></tr>\n",
       "\t<tr><td>3              </td><td>86             </td></tr>\n",
       "\t<tr><td>2              </td><td>82             </td></tr>\n",
       "\t<tr><td>1              </td><td>46             </td></tr>\n",
       "\t<tr><td>c(1, 5)        </td><td>20             </td></tr>\n",
       "\t<tr><td>1:2            </td><td>19             </td></tr>\n",
       "\t<tr><td>5 and 2        </td><td>19             </td></tr>\n",
       "\t<tr><td>c(3, 5)        </td><td>15             </td></tr>\n",
       "\t<tr><td>2 and 5        </td><td>14             </td></tr>\n",
       "\t<tr><td>3:4            </td><td>13             </td></tr>\n",
       "\t<tr><td>               </td><td>12             </td></tr>\n",
       "\t<tr><td>2:3            </td><td> 9             </td></tr>\n",
       "\t<tr><td>3 and 2        </td><td> 8             </td></tr>\n",
       "\t<tr><td>5 and 3        </td><td> 8             </td></tr>\n",
       "\t<tr><td>2 and 3        </td><td> 7             </td></tr>\n",
       "\t<tr><td>3 and 1        </td><td> 5             </td></tr>\n",
       "\t<tr><td>3:5            </td><td> 4             </td></tr>\n",
       "\t<tr><td>1 and 3        </td><td> 3             </td></tr>\n",
       "\t<tr><td>2:4            </td><td> 3             </td></tr>\n",
       "\t<tr><td>3 and 5        </td><td> 3             </td></tr>\n",
       "\t<tr><td>3 and 5 and 2  </td><td> 3             </td></tr>\n",
       "\t<tr><td>5 and 2 and 3  </td><td> 3             </td></tr>\n",
       "\t<tr><td>c(1, 3, 5)     </td><td> 3             </td></tr>\n",
       "\t<tr><td>1 and 3 and 2  </td><td> 2             </td></tr>\n",
       "\t<tr><td>2 and 5 and 3  </td><td> 2             </td></tr>\n",
       "\t<tr><td>2 and c(3, 5)  </td><td> 2             </td></tr>\n",
       "\t<tr><td>3 and 1:2      </td><td> 2             </td></tr>\n",
       "\t<tr><td>3 and 2 and 5  </td><td> 2             </td></tr>\n",
       "\t<tr><td>c(1, 2, 4)     </td><td> 2             </td></tr>\n",
       "\t<tr><td>1 and 3:4      </td><td> 1             </td></tr>\n",
       "\t<tr><td>1:3            </td><td> 1             </td></tr>\n",
       "\t<tr><td>1479 and 1:2   </td><td> 1             </td></tr>\n",
       "\t<tr><td>2 and 1        </td><td> 1             </td></tr>\n",
       "\t<tr><td>2 and 3 and 1  </td><td> 1             </td></tr>\n",
       "\t<tr><td>2 and 5 and 3:4</td><td> 1             </td></tr>\n",
       "\t<tr><td>4              </td><td> 1             </td></tr>\n",
       "\t<tr><td>4:5            </td><td> 1             </td></tr>\n",
       "\t<tr><td>5 and 1:2      </td><td> 1             </td></tr>\n",
       "\t<tr><td>5 and 2 and 3:4</td><td> 1             </td></tr>\n",
       "\t<tr><td>5 and 2:3      </td><td> 1             </td></tr>\n",
       "\t<tr><td>5 and 3 and 2  </td><td> 1             </td></tr>\n",
       "\t<tr><td>5 and 3:4      </td><td> 1             </td></tr>\n",
       "\t<tr><td>c(1, 2, 3, 5)  </td><td> 1             </td></tr>\n",
       "\t<tr><td>c(2, 4)        </td><td> 1             </td></tr>\n",
       "</tbody>\n",
       "</table>\n"
      ],
      "text/latex": [
       "\\begin{tabular}{r|ll}\n",
       " CSs & count\\\\\n",
       "\\hline\n",
       "\t 5               & 88             \\\\\n",
       "\t 3               & 86             \\\\\n",
       "\t 2               & 82             \\\\\n",
       "\t 1               & 46             \\\\\n",
       "\t c(1, 5)         & 20             \\\\\n",
       "\t 1:2             & 19             \\\\\n",
       "\t 5 and 2         & 19             \\\\\n",
       "\t c(3, 5)         & 15             \\\\\n",
       "\t 2 and 5         & 14             \\\\\n",
       "\t 3:4             & 13             \\\\\n",
       "\t                 & 12             \\\\\n",
       "\t 2:3             &  9             \\\\\n",
       "\t 3 and 2         &  8             \\\\\n",
       "\t 5 and 3         &  8             \\\\\n",
       "\t 2 and 3         &  7             \\\\\n",
       "\t 3 and 1         &  5             \\\\\n",
       "\t 3:5             &  4             \\\\\n",
       "\t 1 and 3         &  3             \\\\\n",
       "\t 2:4             &  3             \\\\\n",
       "\t 3 and 5         &  3             \\\\\n",
       "\t 3 and 5 and 2   &  3             \\\\\n",
       "\t 5 and 2 and 3   &  3             \\\\\n",
       "\t c(1, 3, 5)      &  3             \\\\\n",
       "\t 1 and 3 and 2   &  2             \\\\\n",
       "\t 2 and 5 and 3   &  2             \\\\\n",
       "\t 2 and c(3, 5)   &  2             \\\\\n",
       "\t 3 and 1:2       &  2             \\\\\n",
       "\t 3 and 2 and 5   &  2             \\\\\n",
       "\t c(1, 2, 4)      &  2             \\\\\n",
       "\t 1 and 3:4       &  1             \\\\\n",
       "\t 1:3             &  1             \\\\\n",
       "\t 1479 and 1:2    &  1             \\\\\n",
       "\t 2 and 1         &  1             \\\\\n",
       "\t 2 and 3 and 1   &  1             \\\\\n",
       "\t 2 and 5 and 3:4 &  1             \\\\\n",
       "\t 4               &  1             \\\\\n",
       "\t 4:5             &  1             \\\\\n",
       "\t 5 and 1:2       &  1             \\\\\n",
       "\t 5 and 2 and 3:4 &  1             \\\\\n",
       "\t 5 and 2:3       &  1             \\\\\n",
       "\t 5 and 3 and 2   &  1             \\\\\n",
       "\t 5 and 3:4       &  1             \\\\\n",
       "\t c(1, 2, 3, 5)   &  1             \\\\\n",
       "\t c(2, 4)         &  1             \\\\\n",
       "\\end{tabular}\n"
      ],
      "text/markdown": [
       "\n",
       "CSs | count | \n",
       "|---|---|---|---|---|---|---|---|---|---|---|---|---|---|---|---|---|---|---|---|---|---|---|---|---|---|---|---|---|---|---|---|---|---|---|---|---|---|---|---|---|---|---|---|\n",
       "| 5               | 88              | \n",
       "| 3               | 86              | \n",
       "| 2               | 82              | \n",
       "| 1               | 46              | \n",
       "| c(1, 5)         | 20              | \n",
       "| 1:2             | 19              | \n",
       "| 5 and 2         | 19              | \n",
       "| c(3, 5)         | 15              | \n",
       "| 2 and 5         | 14              | \n",
       "| 3:4             | 13              | \n",
       "|                 | 12              | \n",
       "| 2:3             |  9              | \n",
       "| 3 and 2         |  8              | \n",
       "| 5 and 3         |  8              | \n",
       "| 2 and 3         |  7              | \n",
       "| 3 and 1         |  5              | \n",
       "| 3:5             |  4              | \n",
       "| 1 and 3         |  3              | \n",
       "| 2:4             |  3              | \n",
       "| 3 and 5         |  3              | \n",
       "| 3 and 5 and 2   |  3              | \n",
       "| 5 and 2 and 3   |  3              | \n",
       "| c(1, 3, 5)      |  3              | \n",
       "| 1 and 3 and 2   |  2              | \n",
       "| 2 and 5 and 3   |  2              | \n",
       "| 2 and c(3, 5)   |  2              | \n",
       "| 3 and 1:2       |  2              | \n",
       "| 3 and 2 and 5   |  2              | \n",
       "| c(1, 2, 4)      |  2              | \n",
       "| 1 and 3:4       |  1              | \n",
       "| 1:3             |  1              | \n",
       "| 1479 and 1:2    |  1              | \n",
       "| 2 and 1         |  1              | \n",
       "| 2 and 3 and 1   |  1              | \n",
       "| 2 and 5 and 3:4 |  1              | \n",
       "| 4               |  1              | \n",
       "| 4:5             |  1              | \n",
       "| 5 and 1:2       |  1              | \n",
       "| 5 and 2 and 3:4 |  1              | \n",
       "| 5 and 2:3       |  1              | \n",
       "| 5 and 3 and 2   |  1              | \n",
       "| 5 and 3:4       |  1              | \n",
       "| c(1, 2, 3, 5)   |  1              | \n",
       "| c(2, 4)         |  1              | \n",
       "\n",
       "\n"
      ],
      "text/plain": [
       "   CSs             count\n",
       "1  5               88   \n",
       "2  3               86   \n",
       "3  2               82   \n",
       "4  1               46   \n",
       "5  c(1, 5)         20   \n",
       "6  1:2             19   \n",
       "7  5 and 2         19   \n",
       "8  c(3, 5)         15   \n",
       "9  2 and 5         14   \n",
       "10 3:4             13   \n",
       "11                 12   \n",
       "12 2:3              9   \n",
       "13 3 and 2          8   \n",
       "14 5 and 3          8   \n",
       "15 2 and 3          7   \n",
       "16 3 and 1          5   \n",
       "17 3:5              4   \n",
       "18 1 and 3          3   \n",
       "19 2:4              3   \n",
       "20 3 and 5          3   \n",
       "21 3 and 5 and 2    3   \n",
       "22 5 and 2 and 3    3   \n",
       "23 c(1, 3, 5)       3   \n",
       "24 1 and 3 and 2    2   \n",
       "25 2 and 5 and 3    2   \n",
       "26 2 and c(3, 5)    2   \n",
       "27 3 and 1:2        2   \n",
       "28 3 and 2 and 5    2   \n",
       "29 c(1, 2, 4)       2   \n",
       "30 1 and 3:4        1   \n",
       "31 1:3              1   \n",
       "32 1479 and 1:2     1   \n",
       "33 2 and 1          1   \n",
       "34 2 and 3 and 1    1   \n",
       "35 2 and 5 and 3:4  1   \n",
       "36 4                1   \n",
       "37 4:5              1   \n",
       "38 5 and 1:2        1   \n",
       "39 5 and 2 and 3:4  1   \n",
       "40 5 and 2:3        1   \n",
       "41 5 and 3 and 2    1   \n",
       "42 5 and 3:4        1   \n",
       "43 c(1, 2, 3, 5)    1   \n",
       "44 c(2, 4)          1   "
      ]
     },
     "metadata": {},
     "output_type": "display_data"
    }
   ],
   "source": [
    "out"
   ]
  },
  {
   "cell_type": "markdown",
   "metadata": {},
   "source": [
    "For \"good\" initialization:"
   ]
  },
  {
   "cell_type": "code",
   "execution_count": 34,
   "metadata": {},
   "outputs": [],
   "source": [
    "out2 = out1[which(out1$analyze=='susie_true_init'),]$analyze.cs\n",
    "out <- sapply(out2,function (x) paste(as.character(x$cs),collapse = \" and \"))\n",
    "out <- table(factor(out))\n",
    "out <- sort(out,decreasing = TRUE)\n",
    "out <- as.data.frame(out)\n",
    "names(out) <- c(\"CSs\",\"count\")"
   ]
  },
  {
   "cell_type": "code",
   "execution_count": 35,
   "metadata": {},
   "outputs": [
    {
     "data": {
      "text/html": [
       "<table>\n",
       "<thead><tr><th scope=col>CSs</th><th scope=col>count</th></tr></thead>\n",
       "<tbody>\n",
       "\t<tr><td>2 and 3 and 5        </td><td>75                   </td></tr>\n",
       "\t<tr><td>5                    </td><td>65                   </td></tr>\n",
       "\t<tr><td>2                    </td><td>48                   </td></tr>\n",
       "\t<tr><td>2 and 5              </td><td>48                   </td></tr>\n",
       "\t<tr><td>3                    </td><td>47                   </td></tr>\n",
       "\t<tr><td>2 and 3              </td><td>32                   </td></tr>\n",
       "\t<tr><td>3 and 5              </td><td>29                   </td></tr>\n",
       "\t<tr><td>2 and 5 and 3:4      </td><td>14                   </td></tr>\n",
       "\t<tr><td>1:2                  </td><td>13                   </td></tr>\n",
       "\t<tr><td>1                    </td><td>11                   </td></tr>\n",
       "\t<tr><td>2 and 3:4            </td><td>11                   </td></tr>\n",
       "\t<tr><td>3:4                  </td><td>11                   </td></tr>\n",
       "\t<tr><td>c(1, 5)              </td><td>11                   </td></tr>\n",
       "\t<tr><td>3 and 1:2            </td><td>10                   </td></tr>\n",
       "\t<tr><td>3:4 and c(1, 5)      </td><td> 8                   </td></tr>\n",
       "\t<tr><td>5 and 1:2            </td><td> 8                   </td></tr>\n",
       "\t<tr><td>5 and 3:4            </td><td> 7                   </td></tr>\n",
       "\t<tr><td>3 and c(1, 5)        </td><td> 5                   </td></tr>\n",
       "\t<tr><td>2 and c(1, 5)        </td><td> 4                   </td></tr>\n",
       "\t<tr><td>3 and 5 and 1:2      </td><td> 4                   </td></tr>\n",
       "\t<tr><td>c(3, 5)              </td><td> 4                   </td></tr>\n",
       "\t<tr><td>1 and 3              </td><td> 3                   </td></tr>\n",
       "\t<tr><td>2 and 3 and c(1, 5)  </td><td> 3                   </td></tr>\n",
       "\t<tr><td>1 and 5              </td><td> 2                   </td></tr>\n",
       "\t<tr><td>1:2 and 3:4          </td><td> 2                   </td></tr>\n",
       "\t<tr><td>2 and 3:5            </td><td> 2                   </td></tr>\n",
       "\t<tr><td>2 and c(3, 5)        </td><td> 2                   </td></tr>\n",
       "\t<tr><td>2:3                  </td><td> 2                   </td></tr>\n",
       "\t<tr><td>3:4 and 1:2          </td><td> 2                   </td></tr>\n",
       "\t<tr><td>1 and 3 and 5        </td><td> 1                   </td></tr>\n",
       "\t<tr><td>1 and 3:4            </td><td> 1                   </td></tr>\n",
       "\t<tr><td>1:2 and 4:5          </td><td> 1                   </td></tr>\n",
       "\t<tr><td>1479 and 1:2 and 3:4 </td><td> 1                   </td></tr>\n",
       "\t<tr><td>2 and 3:4 and c(1, 5)</td><td> 1                   </td></tr>\n",
       "\t<tr><td>2 and 4 and 5        </td><td> 1                   </td></tr>\n",
       "\t<tr><td>3 and 1              </td><td> 1                   </td></tr>\n",
       "\t<tr><td>3:4 and 4:5          </td><td> 1                   </td></tr>\n",
       "\t<tr><td>3:5                  </td><td> 1                   </td></tr>\n",
       "\t<tr><td>4                    </td><td> 1                   </td></tr>\n",
       "\t<tr><td>4 and 1:2            </td><td> 1                   </td></tr>\n",
       "\t<tr><td>4 and c(1, 5)        </td><td> 1                   </td></tr>\n",
       "\t<tr><td>5 and 1:2 and 3:4    </td><td> 1                   </td></tr>\n",
       "\t<tr><td>5 and 2:3            </td><td> 1                   </td></tr>\n",
       "\t<tr><td>c(1, 2, 3, 5)        </td><td> 1                   </td></tr>\n",
       "\t<tr><td>c(1, 3, 5)           </td><td> 1                   </td></tr>\n",
       "\t<tr><td>c(1, 5) and c(3, 5)  </td><td> 1                   </td></tr>\n",
       "</tbody>\n",
       "</table>\n"
      ],
      "text/latex": [
       "\\begin{tabular}{r|ll}\n",
       " CSs & count\\\\\n",
       "\\hline\n",
       "\t 2 and 3 and 5         & 75                   \\\\\n",
       "\t 5                     & 65                   \\\\\n",
       "\t 2                     & 48                   \\\\\n",
       "\t 2 and 5               & 48                   \\\\\n",
       "\t 3                     & 47                   \\\\\n",
       "\t 2 and 3               & 32                   \\\\\n",
       "\t 3 and 5               & 29                   \\\\\n",
       "\t 2 and 5 and 3:4       & 14                   \\\\\n",
       "\t 1:2                   & 13                   \\\\\n",
       "\t 1                     & 11                   \\\\\n",
       "\t 2 and 3:4             & 11                   \\\\\n",
       "\t 3:4                   & 11                   \\\\\n",
       "\t c(1, 5)               & 11                   \\\\\n",
       "\t 3 and 1:2             & 10                   \\\\\n",
       "\t 3:4 and c(1, 5)       &  8                   \\\\\n",
       "\t 5 and 1:2             &  8                   \\\\\n",
       "\t 5 and 3:4             &  7                   \\\\\n",
       "\t 3 and c(1, 5)         &  5                   \\\\\n",
       "\t 2 and c(1, 5)         &  4                   \\\\\n",
       "\t 3 and 5 and 1:2       &  4                   \\\\\n",
       "\t c(3, 5)               &  4                   \\\\\n",
       "\t 1 and 3               &  3                   \\\\\n",
       "\t 2 and 3 and c(1, 5)   &  3                   \\\\\n",
       "\t 1 and 5               &  2                   \\\\\n",
       "\t 1:2 and 3:4           &  2                   \\\\\n",
       "\t 2 and 3:5             &  2                   \\\\\n",
       "\t 2 and c(3, 5)         &  2                   \\\\\n",
       "\t 2:3                   &  2                   \\\\\n",
       "\t 3:4 and 1:2           &  2                   \\\\\n",
       "\t 1 and 3 and 5         &  1                   \\\\\n",
       "\t 1 and 3:4             &  1                   \\\\\n",
       "\t 1:2 and 4:5           &  1                   \\\\\n",
       "\t 1479 and 1:2 and 3:4  &  1                   \\\\\n",
       "\t 2 and 3:4 and c(1, 5) &  1                   \\\\\n",
       "\t 2 and 4 and 5         &  1                   \\\\\n",
       "\t 3 and 1               &  1                   \\\\\n",
       "\t 3:4 and 4:5           &  1                   \\\\\n",
       "\t 3:5                   &  1                   \\\\\n",
       "\t 4                     &  1                   \\\\\n",
       "\t 4 and 1:2             &  1                   \\\\\n",
       "\t 4 and c(1, 5)         &  1                   \\\\\n",
       "\t 5 and 1:2 and 3:4     &  1                   \\\\\n",
       "\t 5 and 2:3             &  1                   \\\\\n",
       "\t c(1, 2, 3, 5)         &  1                   \\\\\n",
       "\t c(1, 3, 5)            &  1                   \\\\\n",
       "\t c(1, 5) and c(3, 5)   &  1                   \\\\\n",
       "\\end{tabular}\n"
      ],
      "text/markdown": [
       "\n",
       "CSs | count | \n",
       "|---|---|---|---|---|---|---|---|---|---|---|---|---|---|---|---|---|---|---|---|---|---|---|---|---|---|---|---|---|---|---|---|---|---|---|---|---|---|---|---|---|---|---|---|---|---|\n",
       "| 2 and 3 and 5         | 75                    | \n",
       "| 5                     | 65                    | \n",
       "| 2                     | 48                    | \n",
       "| 2 and 5               | 48                    | \n",
       "| 3                     | 47                    | \n",
       "| 2 and 3               | 32                    | \n",
       "| 3 and 5               | 29                    | \n",
       "| 2 and 5 and 3:4       | 14                    | \n",
       "| 1:2                   | 13                    | \n",
       "| 1                     | 11                    | \n",
       "| 2 and 3:4             | 11                    | \n",
       "| 3:4                   | 11                    | \n",
       "| c(1, 5)               | 11                    | \n",
       "| 3 and 1:2             | 10                    | \n",
       "| 3:4 and c(1, 5)       |  8                    | \n",
       "| 5 and 1:2             |  8                    | \n",
       "| 5 and 3:4             |  7                    | \n",
       "| 3 and c(1, 5)         |  5                    | \n",
       "| 2 and c(1, 5)         |  4                    | \n",
       "| 3 and 5 and 1:2       |  4                    | \n",
       "| c(3, 5)               |  4                    | \n",
       "| 1 and 3               |  3                    | \n",
       "| 2 and 3 and c(1, 5)   |  3                    | \n",
       "| 1 and 5               |  2                    | \n",
       "| 1:2 and 3:4           |  2                    | \n",
       "| 2 and 3:5             |  2                    | \n",
       "| 2 and c(3, 5)         |  2                    | \n",
       "| 2:3                   |  2                    | \n",
       "| 3:4 and 1:2           |  2                    | \n",
       "| 1 and 3 and 5         |  1                    | \n",
       "| 1 and 3:4             |  1                    | \n",
       "| 1:2 and 4:5           |  1                    | \n",
       "| 1479 and 1:2 and 3:4  |  1                    | \n",
       "| 2 and 3:4 and c(1, 5) |  1                    | \n",
       "| 2 and 4 and 5         |  1                    | \n",
       "| 3 and 1               |  1                    | \n",
       "| 3:4 and 4:5           |  1                    | \n",
       "| 3:5                   |  1                    | \n",
       "| 4                     |  1                    | \n",
       "| 4 and 1:2             |  1                    | \n",
       "| 4 and c(1, 5)         |  1                    | \n",
       "| 5 and 1:2 and 3:4     |  1                    | \n",
       "| 5 and 2:3             |  1                    | \n",
       "| c(1, 2, 3, 5)         |  1                    | \n",
       "| c(1, 3, 5)            |  1                    | \n",
       "| c(1, 5) and c(3, 5)   |  1                    | \n",
       "\n",
       "\n"
      ],
      "text/plain": [
       "   CSs                   count\n",
       "1  2 and 3 and 5         75   \n",
       "2  5                     65   \n",
       "3  2                     48   \n",
       "4  2 and 5               48   \n",
       "5  3                     47   \n",
       "6  2 and 3               32   \n",
       "7  3 and 5               29   \n",
       "8  2 and 5 and 3:4       14   \n",
       "9  1:2                   13   \n",
       "10 1                     11   \n",
       "11 2 and 3:4             11   \n",
       "12 3:4                   11   \n",
       "13 c(1, 5)               11   \n",
       "14 3 and 1:2             10   \n",
       "15 3:4 and c(1, 5)        8   \n",
       "16 5 and 1:2              8   \n",
       "17 5 and 3:4              7   \n",
       "18 3 and c(1, 5)          5   \n",
       "19 2 and c(1, 5)          4   \n",
       "20 3 and 5 and 1:2        4   \n",
       "21 c(3, 5)                4   \n",
       "22 1 and 3                3   \n",
       "23 2 and 3 and c(1, 5)    3   \n",
       "24 1 and 5                2   \n",
       "25 1:2 and 3:4            2   \n",
       "26 2 and 3:5              2   \n",
       "27 2 and c(3, 5)          2   \n",
       "28 2:3                    2   \n",
       "29 3:4 and 1:2            2   \n",
       "30 1 and 3 and 5          1   \n",
       "31 1 and 3:4              1   \n",
       "32 1:2 and 4:5            1   \n",
       "33 1479 and 1:2 and 3:4   1   \n",
       "34 2 and 3:4 and c(1, 5)  1   \n",
       "35 2 and 4 and 5          1   \n",
       "36 3 and 1                1   \n",
       "37 3:4 and 4:5            1   \n",
       "38 3:5                    1   \n",
       "39 4                      1   \n",
       "40 4 and 1:2              1   \n",
       "41 4 and c(1, 5)          1   \n",
       "42 5 and 1:2 and 3:4      1   \n",
       "43 5 and 2:3              1   \n",
       "44 c(1, 2, 3, 5)          1   \n",
       "45 c(1, 3, 5)             1   \n",
       "46 c(1, 5) and c(3, 5)    1   "
      ]
     },
     "metadata": {},
     "output_type": "display_data"
    }
   ],
   "source": [
    "out"
   ]
  },
  {
   "cell_type": "code",
   "execution_count": null,
   "metadata": {},
   "outputs": [],
   "source": []
  }
 ],
 "metadata": {
  "kernelspec": {
   "display_name": "R",
   "language": "R",
   "name": "ir"
  },
  "language_info": {
   "codemirror_mode": "r",
   "file_extension": ".r",
   "mimetype": "text/x-r-source",
   "name": "R",
   "pygments_lexer": "r",
   "version": "3.5.1"
  }
 },
 "nbformat": 4,
 "nbformat_minor": 4
}
